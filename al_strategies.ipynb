{
 "cells": [
  {
   "cell_type": "markdown",
   "metadata": {},
   "source": [
    "## Setup and Imports"
   ]
  },
  {
   "cell_type": "code",
   "execution_count": null,
   "metadata": {},
   "outputs": [],
   "source": [
    "import sys\n",
    "sys.path.append(\"/ML_CW2/TorchSSL\")  \n",
    "\n",
    "import random\n",
    "import numpy as np\n",
    "import torch\n",
    "import torch.nn as nn\n",
    "import torch.nn.functional as F\n",
    "import torchvision\n",
    "import torchvision.transforms as transforms\n",
    "import matplotlib.pyplot as plt\n",
    "import json\n",
    "\n",
    "from torch.utils.data import DataLoader, Subset, Dataset, TensorDataset\n",
    "from torch.optim.lr_scheduler import CosineAnnealingLR\n",
    "\n",
    "# For clustering & neighbors\n",
    "from sklearn.cluster import KMeans\n",
    "from sklearn.neighbors import NearestNeighbors\n",
    "\n",
    "from resnet_cifar import resnet18"
   ]
  },
  {
   "cell_type": "code",
   "execution_count": 39,
   "metadata": {},
   "outputs": [],
   "source": [
    "def set_seed(seed=0):\n",
    "    random.seed(seed)\n",
    "    np.random.seed(seed)\n",
    "    torch.manual_seed(seed)\n",
    "    torch.cuda.manual_seed_all(seed)\n",
    "    torch.backends.cudnn.deterministic = True\n",
    "    torch.backends.cudnn.benchmark = False"
   ]
  },
  {
   "cell_type": "markdown",
   "metadata": {},
   "source": [
    "## Load CIFAR-10 Dataset"
   ]
  },
  {
   "cell_type": "markdown",
   "metadata": {},
   "source": [
    " use random crop + horizontal flip + normalization for training augmentation, as recommended by Hacohen et al. (2022) in their fully supervised setting."
   ]
  },
  {
   "cell_type": "code",
   "execution_count": 40,
   "metadata": {},
   "outputs": [],
   "source": [
    "set_seed(42) \n",
    "\n",
    "# Download CIFAR-10\n",
    "trainset = torchvision.datasets.CIFAR10(\n",
    "    root='./data',\n",
    "    train=True,\n",
    "    download=True,\n",
    "    transform=None  # returns PIL images\n",
    ")\n",
    "\n",
    "# Basic test transform (no random crop/flip for test data)\n",
    "test_transform = transforms.Compose([\n",
    "    transforms.ToTensor(),\n",
    "    transforms.Normalize([0.4914, 0.4822, 0.4465],\n",
    "                         [0.2470, 0.2435, 0.2616])\n",
    "])\n",
    "\n",
    "testset = torchvision.datasets.CIFAR10(\n",
    "    root='./data',\n",
    "    train=False,\n",
    "    download=True,\n",
    "    transform=test_transform\n",
    ")\n",
    "\n",
    "testloader = DataLoader(testset, batch_size=256, shuffle=False)\n"
   ]
  },
  {
   "cell_type": "markdown",
   "metadata": {},
   "source": [
    "## Define Models\n",
    "# \n",
    "# \n",
    "##### - `create_resnet18_for_cifar` for a ResNet-18 classifier\n",
    "##### - `SimCLRNet` for loading a pre-trained SimCLR backbone\n",
    "##### - `LinearClassifier` for linear evaluation on embeddings"
   ]
  },
  {
   "cell_type": "code",
   "execution_count": null,
   "metadata": {},
   "outputs": [],
   "source": [
    "def create_resnet18_for_cifar(num_classes=10):\n",
    "    \"\"\"\n",
    "    Returns a ResNet-18 backbone \n",
    "    plus a final linear layer for classification.\n",
    "    \"\"\"\n",
    "    backbone_dict = resnet18(in_channel=3)  \n",
    "    backbone = backbone_dict['backbone']\n",
    "    feature_dim = backbone_dict['dim']  # 512\n",
    "\n",
    "    class ResNet18Classifier(nn.Module):\n",
    "        def __init__(self):\n",
    "            super().__init__()\n",
    "            self.backbone = backbone\n",
    "            self.fc = nn.Linear(feature_dim, num_classes)\n",
    "\n",
    "        def forward(self, x, return_features=False):\n",
    "            feats = self.backbone(x)  # shape [bs, 512]\n",
    "            logits = self.fc(feats)   # shape [bs, num_classes]\n",
    "            if return_features:\n",
    "                return logits, feats\n",
    "            else:\n",
    "                return logits\n",
    "\n",
    "    return ResNet18Classifier()\n",
    "\n"
   ]
  },
  {
   "cell_type": "code",
   "execution_count": null,
   "metadata": {},
   "outputs": [
    {
     "name": "stdout",
     "output_type": "stream",
     "text": [
      "backbone done\n"
     ]
    },
    {
     "data": {
      "text/plain": [
       "SimCLRNet(\n",
       "  (backbone): ResNet(\n",
       "    (conv1): Conv2d(3, 64, kernel_size=(3, 3), stride=(1, 1), padding=(1, 1), bias=False)\n",
       "    (bn1): BatchNorm2d(64, eps=1e-05, momentum=0.1, affine=True, track_running_stats=True)\n",
       "    (layer1): Sequential(\n",
       "      (0): BasicBlock(\n",
       "        (conv1): Conv2d(64, 64, kernel_size=(3, 3), stride=(1, 1), padding=(1, 1), bias=False)\n",
       "        (bn1): BatchNorm2d(64, eps=1e-05, momentum=0.1, affine=True, track_running_stats=True)\n",
       "        (conv2): Conv2d(64, 64, kernel_size=(3, 3), stride=(1, 1), padding=(1, 1), bias=False)\n",
       "        (bn2): BatchNorm2d(64, eps=1e-05, momentum=0.1, affine=True, track_running_stats=True)\n",
       "        (shortcut): Sequential()\n",
       "      )\n",
       "      (1): BasicBlock(\n",
       "        (conv1): Conv2d(64, 64, kernel_size=(3, 3), stride=(1, 1), padding=(1, 1), bias=False)\n",
       "        (bn1): BatchNorm2d(64, eps=1e-05, momentum=0.1, affine=True, track_running_stats=True)\n",
       "        (conv2): Conv2d(64, 64, kernel_size=(3, 3), stride=(1, 1), padding=(1, 1), bias=False)\n",
       "        (bn2): BatchNorm2d(64, eps=1e-05, momentum=0.1, affine=True, track_running_stats=True)\n",
       "        (shortcut): Sequential()\n",
       "      )\n",
       "    )\n",
       "    (layer2): Sequential(\n",
       "      (0): BasicBlock(\n",
       "        (conv1): Conv2d(64, 128, kernel_size=(3, 3), stride=(2, 2), padding=(1, 1), bias=False)\n",
       "        (bn1): BatchNorm2d(128, eps=1e-05, momentum=0.1, affine=True, track_running_stats=True)\n",
       "        (conv2): Conv2d(128, 128, kernel_size=(3, 3), stride=(1, 1), padding=(1, 1), bias=False)\n",
       "        (bn2): BatchNorm2d(128, eps=1e-05, momentum=0.1, affine=True, track_running_stats=True)\n",
       "        (shortcut): Sequential(\n",
       "          (0): Conv2d(64, 128, kernel_size=(1, 1), stride=(2, 2), bias=False)\n",
       "          (1): BatchNorm2d(128, eps=1e-05, momentum=0.1, affine=True, track_running_stats=True)\n",
       "        )\n",
       "      )\n",
       "      (1): BasicBlock(\n",
       "        (conv1): Conv2d(128, 128, kernel_size=(3, 3), stride=(1, 1), padding=(1, 1), bias=False)\n",
       "        (bn1): BatchNorm2d(128, eps=1e-05, momentum=0.1, affine=True, track_running_stats=True)\n",
       "        (conv2): Conv2d(128, 128, kernel_size=(3, 3), stride=(1, 1), padding=(1, 1), bias=False)\n",
       "        (bn2): BatchNorm2d(128, eps=1e-05, momentum=0.1, affine=True, track_running_stats=True)\n",
       "        (shortcut): Sequential()\n",
       "      )\n",
       "    )\n",
       "    (layer3): Sequential(\n",
       "      (0): BasicBlock(\n",
       "        (conv1): Conv2d(128, 256, kernel_size=(3, 3), stride=(2, 2), padding=(1, 1), bias=False)\n",
       "        (bn1): BatchNorm2d(256, eps=1e-05, momentum=0.1, affine=True, track_running_stats=True)\n",
       "        (conv2): Conv2d(256, 256, kernel_size=(3, 3), stride=(1, 1), padding=(1, 1), bias=False)\n",
       "        (bn2): BatchNorm2d(256, eps=1e-05, momentum=0.1, affine=True, track_running_stats=True)\n",
       "        (shortcut): Sequential(\n",
       "          (0): Conv2d(128, 256, kernel_size=(1, 1), stride=(2, 2), bias=False)\n",
       "          (1): BatchNorm2d(256, eps=1e-05, momentum=0.1, affine=True, track_running_stats=True)\n",
       "        )\n",
       "      )\n",
       "      (1): BasicBlock(\n",
       "        (conv1): Conv2d(256, 256, kernel_size=(3, 3), stride=(1, 1), padding=(1, 1), bias=False)\n",
       "        (bn1): BatchNorm2d(256, eps=1e-05, momentum=0.1, affine=True, track_running_stats=True)\n",
       "        (conv2): Conv2d(256, 256, kernel_size=(3, 3), stride=(1, 1), padding=(1, 1), bias=False)\n",
       "        (bn2): BatchNorm2d(256, eps=1e-05, momentum=0.1, affine=True, track_running_stats=True)\n",
       "        (shortcut): Sequential()\n",
       "      )\n",
       "    )\n",
       "    (layer4): Sequential(\n",
       "      (0): BasicBlock(\n",
       "        (conv1): Conv2d(256, 512, kernel_size=(3, 3), stride=(2, 2), padding=(1, 1), bias=False)\n",
       "        (bn1): BatchNorm2d(512, eps=1e-05, momentum=0.1, affine=True, track_running_stats=True)\n",
       "        (conv2): Conv2d(512, 512, kernel_size=(3, 3), stride=(1, 1), padding=(1, 1), bias=False)\n",
       "        (bn2): BatchNorm2d(512, eps=1e-05, momentum=0.1, affine=True, track_running_stats=True)\n",
       "        (shortcut): Sequential(\n",
       "          (0): Conv2d(256, 512, kernel_size=(1, 1), stride=(2, 2), bias=False)\n",
       "          (1): BatchNorm2d(512, eps=1e-05, momentum=0.1, affine=True, track_running_stats=True)\n",
       "        )\n",
       "      )\n",
       "      (1): BasicBlock(\n",
       "        (conv1): Conv2d(512, 512, kernel_size=(3, 3), stride=(1, 1), padding=(1, 1), bias=False)\n",
       "        (bn1): BatchNorm2d(512, eps=1e-05, momentum=0.1, affine=True, track_running_stats=True)\n",
       "        (conv2): Conv2d(512, 512, kernel_size=(3, 3), stride=(1, 1), padding=(1, 1), bias=False)\n",
       "        (bn2): BatchNorm2d(512, eps=1e-05, momentum=0.1, affine=True, track_running_stats=True)\n",
       "        (shortcut): Sequential()\n",
       "      )\n",
       "    )\n",
       "    (avgpool): AdaptiveAvgPool2d(output_size=(1, 1))\n",
       "  )\n",
       "  (contrastive_head): Sequential(\n",
       "    (0): Linear(in_features=512, out_features=512, bias=True)\n",
       "    (1): ReLU(inplace=True)\n",
       "    (2): Linear(in_features=512, out_features=128, bias=True)\n",
       "  )\n",
       ")"
      ]
     },
     "execution_count": 42,
     "metadata": {},
     "output_type": "execute_result"
    }
   ],
   "source": [
    "#from resnet_cifar import resnet18\n",
    "\n",
    "class SimCLRNet(nn.Module):\n",
    "    \"\"\"\n",
    "    A ResNet-18 backbone plus a contrastive head for pre-trained SimCLR.\n",
    "    use for self-supervised embeddings.\n",
    "    \"\"\"\n",
    "    def __init__(self):\n",
    "        super().__init__()\n",
    "        backbone_dict = resnet18(in_channel=3)\n",
    "        self.backbone = backbone_dict['backbone']   \n",
    "        backbone_dim  = backbone_dict['dim']       \n",
    "        print(\"backbone done\")\n",
    "\n",
    "        self.contrastive_head = nn.Sequential(\n",
    "            nn.Linear(backbone_dim, 512),\n",
    "            nn.ReLU(inplace=True),\n",
    "            nn.Linear(512, 128)\n",
    "\n",
    "        )\n",
    "\n",
    "    def forward(self, x, return_features=False):\n",
    "        feats = self.backbone(x)          \n",
    "        proj  = self.contrastive_head(feats) \n",
    "        if return_features:\n",
    "            return proj, feats\n",
    "        else:\n",
    "            return proj\n",
    "\n",
    "\n",
    "# Instantiate model\n",
    "simclr_model = SimCLRNet ()  #features_dim=128\n",
    "\n",
    "# Load  Pretrained SimCLR Model\n",
    "checkpoint_path = 'simclr_cifar-10.pth/simclr_cifar-10.pth'\n",
    "checkpoint = torch.load(checkpoint_path, map_location='cpu')\n",
    "\n",
    "new_state_dict = {}\n",
    "for key, value in checkpoint.items():\n",
    "    # Example logic: if your checkpoint has \"backbone.xxx\" keys,\n",
    "    # and your model also calls it \"backbone.xxx\", then you may not need to rename.\n",
    "    # If, however, your checkpoint calls it \"encoder.xxx\" but your code expects \"backbone.xxx\",\n",
    "    # then do the rename here.\n",
    "\n",
    "    if key.startswith(\"encoder.\"):\n",
    "        # e.g., rename \"encoder.layer1\" -> \"backbone.layer1\"\n",
    "        new_key = \"backbone.\" + key[len(\"encoder.\"):]\n",
    "    elif key.startswith(\"projector.\"):\n",
    "        # rename \"projector.fc\" -> \"contrastive_head.fc\"\n",
    "        new_key = \"contrastive_head.\" + key[len(\"projector.\"):]\n",
    "    else:\n",
    "        new_key = key\n",
    "\n",
    "    # Optionally fix 'shortcut' -> 'downsample'\n",
    "    if \"shortcut\" in new_key:\n",
    "        new_key = new_key.replace(\"shortcut\", \"downsample\")\n",
    "\n",
    "    new_state_dict[new_key] = value\n",
    "\n",
    "# Place the checkpoint's model in eval mode\n",
    "simclr_model.load_state_dict(new_state_dict, strict=False)  # or checkpoint['state_dict']\n",
    "simclr_model.eval()\n",
    "#print(\"model lpoaded\")\n",
    "\n"
   ]
  },
  {
   "cell_type": "code",
   "execution_count": 43,
   "metadata": {},
   "outputs": [],
   "source": [
    "import torch\n",
    "import torch.nn as nn\n",
    "\n",
    "class LinearClassifier(nn.Module):\n",
    "    \"\"\"\n",
    "    For linear evaluation on extracted embeddings.\n",
    "    \"\"\"\n",
    "    def __init__(self, embed_dim, num_classes):\n",
    "        super().__init__()\n",
    "        self.linear = nn.Linear(embed_dim, num_classes)\n",
    "\n",
    "    def forward(self, x):\n",
    "        \n",
    "        return self.linear(x)\n"
   ]
  },
  {
   "cell_type": "markdown",
   "metadata": {},
   "source": [
    "## 4. Helper Functions\n",
    "# \n",
    "#### This section includes:\n",
    "##### - `extract_embeddings` for turning a subset of data into embedding vectors  \n",
    "##### - `cluster_embeddings`, `compute_typicality_sklearn`, `select_typical_samples` for TPC(RP)  \n",
    "##### - `query_selection` for the main AL selection logic  \n",
    "##### - `evaluate` for evaluating a classifier\n"
   ]
  },
  {
   "cell_type": "code",
   "execution_count": 44,
   "metadata": {},
   "outputs": [],
   "source": [
    "class TransformedSubset(Dataset):\n",
    "    \"\"\"\n",
    "    A custom subset that can apply transforms on the fly.\n",
    "    \"\"\"\n",
    "    def __init__(self, base_dataset, indices, transform=None):\n",
    "        self.base_dataset = base_dataset\n",
    "        self.indices = indices\n",
    "        self.transform = transform\n",
    "\n",
    "    def __getitem__(self, idx):\n",
    "        real_idx = self.indices[idx]\n",
    "        img, label = self.base_dataset[real_idx]\n",
    "        if self.transform is not None:\n",
    "            img = self.transform(img)  \n",
    "        return img, label\n",
    "\n",
    "    def __len__(self):\n",
    "        return len(self.indices)\n",
    "\n",
    "\n",
    "def extract_embeddings(model, dataset, device='cpu', batch_size=256):\n",
    "    \"\"\"\n",
    "    Convert PIL -> Tensor before passing to model.\n",
    "    No random augmentations here, only basic normalization.\n",
    "    \"\"\"\n",
    "    from torch.utils.data import DataLoader\n",
    "\n",
    "    embedding_transform = transforms.Compose([\n",
    "        transforms.ToTensor(),\n",
    "        transforms.Normalize([0.4914, 0.4822, 0.4465],\n",
    "                             [0.2470, 0.2435, 0.2616])\n",
    "    ])\n",
    "\n",
    "    indices = list(range(len(dataset)))\n",
    "\n",
    "    transformed_subset = TransformedSubset(\n",
    "        base_dataset=dataset,\n",
    "        indices=indices,\n",
    "        transform=embedding_transform\n",
    "    )\n",
    "\n",
    "    loader = DataLoader(transformed_subset, batch_size=batch_size, shuffle=False)\n",
    "\n",
    "    all_feats = []\n",
    "    model.to(device)\n",
    "    model.eval()\n",
    "\n",
    "    with torch.no_grad():\n",
    "        for imgs, _ in loader:\n",
    "            imgs = imgs.to(device)\n",
    "            # forward pass\n",
    "            _, feats = model(imgs, return_features=True)\n",
    "            all_feats.append(feats.cpu().numpy())\n",
    "\n",
    "    return np.concatenate(all_feats, axis=0)\n"
   ]
  },
  {
   "cell_type": "markdown",
   "metadata": {},
   "source": [
    "This is the modification i implemented. Rather than calculating typicality using the inverse distance. I will be using Gaussian-based density, this smoothes out outliers and help focus more on most dense regions.\n",
    "Use this function in place of compute_typicality_sklearn, when trying to test the modified version."
   ]
  },
  {
   "cell_type": "code",
   "execution_count": null,
   "metadata": {},
   "outputs": [],
   "source": [
    "\n",
    "\n",
    "def compute_gaussian_density(embeddings, k=20, alpha=0.2):\n",
    "    \"\"\"\n",
    "    Computes a Gaussian-based density score for each point.\n",
    "    For each point, we find its k nearest neighbors and\n",
    "    sum exp(-alpha * d^2) for their distances d.\n",
    "\n",
    "    Args:\n",
    "      embeddings (np.ndarray): shape [N, D], N points in D-dim space\n",
    "      k (int): number of neighbors to consider\n",
    "      alpha (float): kernel width parameter\n",
    "\n",
    "    Returns:\n",
    "      scores (np.ndarray): shape [N], density score per point\n",
    "    \"\"\"\n",
    "    nbrs = NearestNeighbors(n_neighbors=k+1, algorithm='auto').fit(embeddings)\n",
    "    # Distances: shape [N, k+1], indices: shape [N, k+1]\n",
    "    dist, _ = nbrs.kneighbors(embeddings)\n",
    "    \n",
    "    # dist[i, 0] is the distance from point i to itself (0.0), so skip it\n",
    "    # sum over neighbors 1..k\n",
    "    dist_to_neighbors = dist[:, 1:]  # shape [N, k]\n",
    "\n",
    "    # Gaussian kernel weights: exp(-alpha * d^2)\n",
    "    # shape [N, k]\n",
    "    weights = np.exp(-alpha * (dist_to_neighbors ** 2))\n",
    "\n",
    "    # sum across the k neighbors for each point\n",
    "    scores = weights.sum(axis=1)\n",
    "\n",
    "    return scores\n"
   ]
  },
  {
   "cell_type": "code",
   "execution_count": 46,
   "metadata": {},
   "outputs": [],
   "source": [
    "\n",
    "def cluster_embeddings(embeddings, n_clusters):\n",
    "    \"\"\"\n",
    "    Runs K-means clustering on the embeddings, returning cluster labels.\n",
    "    \"\"\"\n",
    "    kmeans = KMeans(n_clusters=n_clusters, random_state=0)\n",
    "    cluster_labels = kmeans.fit_predict(embeddings)\n",
    "    \n",
    "    unique_clusters, counts = np.unique(cluster_labels, return_counts=True)\n",
    "    print(\"Cluster distribution:\", dict(zip(unique_clusters, counts)))\n",
    "\n",
    "    return cluster_labels\n"
   ]
  },
  {
   "cell_type": "code",
   "execution_count": null,
   "metadata": {},
   "outputs": [],
   "source": [
    "#from sklearn.neighbors import NearestNeighbors\n",
    "\n",
    "def compute_typicality_sklearn(embeddings, k=20):\n",
    "    nbrs = NearestNeighbors(n_neighbors=k+1, algorithm='auto').fit(embeddings)\n",
    "    dist, _ = nbrs.kneighbors(embeddings)\n",
    "    avg_dist = dist[:, 1:].mean(axis=1)\n",
    "    return 1.0 / (avg_dist + 1e-8)\n",
    "#typicality_vals = compute_typicality_sklearn(embeddings, k=20)"
   ]
  },
  {
   "cell_type": "code",
   "execution_count": 48,
   "metadata": {},
   "outputs": [],
   "source": [
    "def select_typical_samples(embeddings, cluster_labels, B, typicality_vals):\n",
    "    \"\"\"\n",
    "    In each cluster, pick the point with the highest typicality.\n",
    "    \"\"\"\n",
    "    chosen_indices = []\n",
    "    for cluster_id in range(B):\n",
    "        cluster_idx = np.where(cluster_labels == cluster_id)[0]\n",
    "        if len(cluster_idx) == 0:\n",
    "            continue\n",
    "        cluster_tvals = typicality_vals[cluster_idx]\n",
    "        best_local_idx = cluster_idx[np.argmax(cluster_tvals)]\n",
    "        chosen_indices.append(best_local_idx)\n",
    "    return chosen_indices\n"
   ]
  },
  {
   "cell_type": "markdown",
   "metadata": {},
   "source": [
    "The select_typical_samples2 is the modified method of selecting typical samples. replace with select_typical_samples when trying to run the modified version"
   ]
  },
  {
   "cell_type": "code",
   "execution_count": 49,
   "metadata": {},
   "outputs": [],
   "source": [
    "def select_typical_samples2(embeddings, cluster_labels, B,scores):\n",
    "    chosen_indices = []\n",
    "    for cluster_id in range(B):\n",
    "        cluster_idx = np.where(cluster_labels == cluster_id)[0]\n",
    "        if len(cluster_idx) == 0:\n",
    "            continue\n",
    "        best_local_idx = cluster_idx[np.argmax(scores[cluster_idx])]\n",
    "        chosen_indices.append(best_local_idx)\n",
    "    return chosen_indices\n",
    "\n"
   ]
  },
  {
   "cell_type": "markdown",
   "metadata": {},
   "source": [
    "To enable the modified TPC(RP): comment out the lines using typicality_vals and local_chosen then uncomment the lines using scores = compute_gaussian_density(...) and local_chosen2 = select_typical_samples2(...)"
   ]
  },
  {
   "cell_type": "code",
   "execution_count": 71,
   "metadata": {},
   "outputs": [],
   "source": [
    "def query_selection(\n",
    "    selection_mode,      # \"random\" or \"tpcrp\"\n",
    "    embedding_mode,      # \"fullysupervised\", \"selfsupervised\", \"semisupervised\"\n",
    "    unlabeled_indices,\n",
    "    dataset,\n",
    "    device='cpu',\n",
    "    classifier=None,\n",
    "    simclr_model=None,\n",
    "    B=10\n",
    "):\n",
    "    \"\"\"\n",
    "    Chooses B new points to label, using either random or TPC(RP).\n",
    "    For TPC(RP), we compute embeddings, cluster, and pick typical points.\n",
    "\n",
    "    NOTE : To implement the modified version, uncomment local_chosen2 and scores, then comment out local_chosen ans typicality_vals\n",
    "    \"\"\"\n",
    "    if selection_mode == 'random':\n",
    "        return list(np.random.choice(unlabeled_indices, size=B, replace=False))\n",
    "\n",
    "    elif selection_mode == 'tpcrp':\n",
    "        unlabeled_subset = Subset(dataset, unlabeled_indices)\n",
    "\n",
    "        # Get embeddings\n",
    "        if embedding_mode == 'fullysupervised':\n",
    "            assert classifier is not None\n",
    "            embeddings = extract_embeddings(classifier, unlabeled_subset, device=device)\n",
    "\n",
    "        elif embedding_mode == 'selfsupervised':\n",
    "            assert simclr_model is not None\n",
    "            embeddings = extract_embeddings(simclr_model, unlabeled_subset, device=device)\n",
    "\n",
    "        elif embedding_mode == 'semisupervised':\n",
    "            assert classifier is not None\n",
    "            embeddings = extract_embeddings(classifier, unlabeled_subset, device=device)\n",
    "\n",
    "        else:\n",
    "            raise ValueError(f\"Unknown embedding_mode: {embedding_mode}\")\n",
    "\n",
    "        # Cluster\n",
    "        cluster_labels = cluster_embeddings(embeddings, B)\n",
    "        \n",
    "        \n",
    "        # Compute typicality using the paper's algorithm\n",
    "        # Comment if you want to use modified version\n",
    "        #typicality_vals = compute_typicality_sklearn(embeddings, k=20)\n",
    "        #local_chosen = select_typical_samples(embeddings, cluster_labels, B, typicality_vals)\n",
    "        # chosen_global = [unlabeled_indices[loc] for loc in local_chosen]\n",
    "        \n",
    "        # Uncomment if you want to use modified version\n",
    "        scores = compute_gaussian_density(embeddings, k=20, alpha=0.2)\n",
    "        local_chosen2 = select_typical_samples2(embeddings, cluster_labels, B, scores)\n",
    "\n",
    "        # Convert local indices to global dataset indices\n",
    "        chosen_global = [unlabeled_indices[loc] for loc in local_chosen2]\n",
    "        return chosen_global\n",
    "\n",
    "    else:\n",
    "        raise ValueError(f\"Unknown selection_mode: {selection_mode}\")\n"
   ]
  },
  {
   "cell_type": "code",
   "execution_count": 51,
   "metadata": {},
   "outputs": [],
   "source": [
    "def evaluate(model, test_loader, device='cpu'):\n",
    "    \"\"\"\n",
    "    Evaluates model accuracy on the test set.\n",
    "    \"\"\"\n",
    "    model.eval()\n",
    "    correct, total = 0, 0\n",
    "    with torch.no_grad():\n",
    "        for imgs, labels in test_loader:\n",
    "            imgs, labels = imgs.to(device), labels.to(device)\n",
    "            preds = model(imgs).argmax(dim=1)\n",
    "            correct += (preds == labels).sum().item()\n",
    "            total   += labels.size(0)\n",
    "    return 100.0 * correct / total"
   ]
  },
  {
   "cell_type": "code",
   "execution_count": 67,
   "metadata": {},
   "outputs": [],
   "source": [
    "def train_linear_on_embeddings(\n",
    "    simclr_model,       # Pretrained self-supervised model\n",
    "    dataset,            # Full dataset (CIFAR-10)\n",
    "    labeled_indices,    # Indices of labeled data\n",
    "    embed_dim=512,      \n",
    "    num_classes=10,\n",
    "    epochs=100,\n",
    "    lr= 2.5, #0.01, #2.5, \n",
    "    batch_size=64,\n",
    "    device='cpu'\n",
    "):\n",
    "    # Build a subset of the labeled data\n",
    "    labeled_subset = Subset(dataset, labeled_indices)\n",
    "    labels = [dataset.targets[i] for i in labeled_indices]\n",
    "\n",
    "    # Extract embeddings for labeled data\n",
    "    embeddings = extract_embeddings(simclr_model, labeled_subset, device=device, batch_size=batch_size)\n",
    "    embeddings_tensor = torch.from_numpy(embeddings).float()\n",
    "    labels_tensor = torch.tensor(labels, dtype=torch.long)\n",
    "\n",
    "    # Create a TensorDataset for easy DataLoader usage\n",
    "    labeled_dataset_embed = TensorDataset(embeddings_tensor, labels_tensor)\n",
    "    loader = DataLoader(labeled_dataset_embed, batch_size=batch_size, shuffle=True)\n",
    "\n",
    "    # Create a linear classifier\n",
    "    linear_clf = LinearClassifier(embed_dim, num_classes).to(device)\n",
    "\n",
    "    # Setup optimizer and loss\n",
    "    optimizer = torch.optim.SGD(linear_clf.parameters(), lr=lr, momentum=0.9)\n",
    "    criterion = nn.CrossEntropyLoss()\n",
    "\n",
    "    # Training loop\n",
    "    linear_clf.train()\n",
    "    for ep in range(epochs):\n",
    "        for x_batch, y_batch in loader:\n",
    "            x_batch, y_batch = x_batch.to(device), y_batch.to(device)\n",
    "\n",
    "            optimizer.zero_grad()\n",
    "            logits = linear_clf(x_batch)\n",
    "            loss = criterion(logits, y_batch)\n",
    "            loss.backward()\n",
    "            optimizer.step()\n",
    "\n",
    "    return linear_clf\n"
   ]
  },
  {
   "cell_type": "markdown",
   "metadata": {},
   "source": [
    " ### Evaluate Linear Classifier on Self-Supervised Embeddings"
   ]
  },
  {
   "cell_type": "code",
   "execution_count": 53,
   "metadata": {},
   "outputs": [],
   "source": [
    "def evaluate_linear_on_embeddings(\n",
    "    simclr_model,\n",
    "    linear_clf,\n",
    "    testset,\n",
    "    batch_size=256,\n",
    "    device='cpu'\n",
    "):\n",
    "    \"\"\"\n",
    "    Evaluates the performance of a linear classifier trained on self-supervised embeddings.\n",
    "\n",
    "    Args:\n",
    "      simclr_model: the pre-trained SimCLR model used for feature extraction\n",
    "      linear_clf: a linear layer (classifier) trained on extracted embeddings\n",
    "      testset: the test dataset (with transforms already applied if needed)\n",
    "      batch_size: how many samples per batch during evaluation\n",
    "      device: \"cpu\" \n",
    "\n",
    "    Returns:\n",
    "      accuracy (%): the top-1 classification accuracy on the testset\n",
    "    \"\"\"\n",
    "    test_loader = DataLoader(testset, batch_size=batch_size, shuffle=False)\n",
    "    correct, total = 0, 0\n",
    "\n",
    "    \n",
    "    simclr_model.eval()\n",
    "    linear_clf.eval()\n",
    "\n",
    "    with torch.no_grad():\n",
    "        for imgs, labels in test_loader:\n",
    "            imgs = imgs.to(device)\n",
    "            labels = labels.to(device)\n",
    "\n",
    "            # Extract features from simCLR model\n",
    "            _, feats = simclr_model(imgs, return_features=True)\n",
    "\n",
    "            # Classify these features using the linear layer\n",
    "            logits = linear_clf(feats)\n",
    "            preds = logits.argmax(dim=1)\n",
    "            correct += (preds == labels).sum().item()\n",
    "            total += labels.size(0)\n",
    "\n",
    "    return 100.0 * correct / total\n"
   ]
  },
  {
   "cell_type": "markdown",
   "metadata": {},
   "source": [
    "### Fully Supervised (Paper-Style) Training\n",
    "# \n",
    "#### This function implements the training procedure described in the paper:\n",
    "##### - SGD with momentum=0.9, Nesterov=True\n",
    "##### - Cosine LR scheduler\n",
    "##### - Random crop + horizontal flip for augmentation"
   ]
  },
  {
   "cell_type": "code",
   "execution_count": 54,
   "metadata": {},
   "outputs": [],
   "source": [
    "\n",
    "import torch.optim as optim\n",
    "\n",
    "def train_fully_supervised(\n",
    "    model,\n",
    "    dataset,\n",
    "    labeled_indices,\n",
    "    device='cpu',\n",
    "    epochs=100,\n",
    "    initial_lr=0.025,\n",
    "    batch_size=64\n",
    "):\n",
    "    \"\"\"\n",
    "    Args:\n",
    "      model: the neural network model to train\n",
    "      dataset: the entire training dataset (unlabeled + labeled), from which labeled_indices is picked\n",
    "      labeled_indices: which samples to use for supervised training\n",
    "      device: \"cpu\" \n",
    "      epochs: total number of epochs to train\n",
    "      initial_lr: the initial learning rate for SGD\n",
    "      batch_size: mini-batch size\n",
    "\n",
    "    Returns:\n",
    "      model: the trained model after the specified epochs\n",
    "    \"\"\"\n",
    "    # Augmentations: random crop and horizontal flip\n",
    "    train_transform = transforms.Compose([\n",
    "        transforms.RandomCrop(32, padding=4),\n",
    "        transforms.RandomHorizontalFlip(),\n",
    "        transforms.ToTensor(),\n",
    "        transforms.Normalize(\n",
    "            mean=[0.4914, 0.4822, 0.4465],\n",
    "            std=[0.2470, 0.2435, 0.2616]\n",
    "        )\n",
    "    ])\n",
    "    \n",
    "    # Create a small dataset that applies these transforms only to the labeled subset\n",
    "    class LabeledDatasetWithAug(torch.utils.data.Dataset):\n",
    "        def __init__(self, base_dataset, indices):\n",
    "            self.base_dataset = base_dataset\n",
    "            self.indices = indices\n",
    "            self.transform = train_transform\n",
    "\n",
    "        def __getitem__(self, idx):\n",
    "            real_idx = self.indices[idx]\n",
    "            img, label = self.base_dataset[real_idx]\n",
    "            # Apply augmentations\n",
    "            img = self.transform(img)\n",
    "            return img, label\n",
    "\n",
    "        def __len__(self):\n",
    "            return len(self.indices)\n",
    "\n",
    "    labeled_dataset_aug = LabeledDatasetWithAug(dataset, labeled_indices)\n",
    "    loader = DataLoader(labeled_dataset_aug, batch_size=batch_size, shuffle=True)\n",
    "\n",
    "    criterion = nn.CrossEntropyLoss()\n",
    "    optimizer = optim.SGD(\n",
    "        model.parameters(),\n",
    "        lr=initial_lr,\n",
    "        momentum=0.9,\n",
    "        nesterov=True\n",
    "    )\n",
    "    # CosineAnnealingLR cycles the LR down to 0 over 'epochs' steps\n",
    "    scheduler = CosineAnnealingLR(optimizer, T_max=epochs)\n",
    "\n",
    "    model.to(device)\n",
    "    model.train()\n",
    "\n",
    "    for ep in range(epochs):\n",
    "        for imgs, labels in loader:\n",
    "            imgs, labels = imgs.to(device), labels.to(device)\n",
    "\n",
    "            optimizer.zero_grad()\n",
    "            outputs = model(imgs)\n",
    "            loss = criterion(outputs, labels)\n",
    "            loss.backward()\n",
    "            optimizer.step()\n",
    "\n",
    "        # Step the LR scheduler after each epoch\n",
    "        scheduler.step()\n",
    "    \n",
    "    return model\n"
   ]
  },
  {
   "cell_type": "markdown",
   "metadata": {},
   "source": [
    "### Unlabeled Dataset (Weak & Strong Augmentations)\n",
    "# \n",
    "#### For semi-supervised training, two augmentations are needed:\n",
    "##### - Weak: e.g., random crop + flip\n",
    "##### - Strong: e.g., extra color jitter\n"
   ]
  },
  {
   "cell_type": "code",
   "execution_count": 55,
   "metadata": {},
   "outputs": [],
   "source": [
    "class UnlabeledDatasetWeakStrong(Dataset):\n",
    "    \"\"\"\n",
    "    For unlabeled data, (x_weak, x_strong).\n",
    "    \n",
    "    Args:\n",
    "      base_dataset: a dataset of unlabeled samples\n",
    "      transform_weak: a transform for 'weak' augmentation\n",
    "      transform_strong: a transform for 'strong' augmentation\n",
    "    \"\"\"\n",
    "    def __init__(self, base_dataset, transform_weak, transform_strong):\n",
    "        self.base_dataset = base_dataset\n",
    "        self.transform_weak = transform_weak\n",
    "        self.transform_strong = transform_strong\n",
    "\n",
    "    def __getitem__(self, idx):\n",
    "        img, _ = self.base_dataset[idx]\n",
    "        x_weak = self.transform_weak(img)\n",
    "        x_strong = self.transform_strong(img)\n",
    "        return x_weak, x_strong\n",
    "\n",
    "    def __len__(self):\n",
    "        return len(self.base_dataset)\n"
   ]
  },
  {
   "cell_type": "markdown",
   "metadata": {},
   "source": [
    "### Labeled Dataset Wrapper\n",
    "# \n",
    "##### `LabeledDataset` is similar, but each sample includes its real label. "
   ]
  },
  {
   "cell_type": "code",
   "execution_count": 56,
   "metadata": {},
   "outputs": [],
   "source": [
    "from torch.utils.data import Dataset\n",
    "class LabeledDataset(Dataset):\n",
    "    \"\"\"\n",
    "    A small wrapper to handle labeled subsets with optional transforms.\n",
    "    \"\"\"\n",
    "    def __init__(self, base_dataset, indices, transform=None):\n",
    "        self.base_dataset = base_dataset\n",
    "        self.indices = indices\n",
    "        self.transform = transform\n",
    "\n",
    "    def __getitem__(self, idx):\n",
    "        real_idx = self.indices[idx]\n",
    "        img, label = self.base_dataset[real_idx]  \n",
    "        if self.transform is not None:\n",
    "            img = self.transform(img)  \n",
    "        return img, label\n",
    "\n",
    "    def __len__(self):\n",
    "        return len(self.indices)\n"
   ]
  },
  {
   "cell_type": "markdown",
   "metadata": {},
   "source": [
    "### Augmentation Pipelines\n",
    "# \n",
    "##### - `labeled_transform`: random crop + flip + normalize for the labeled set\n",
    "##### - `weak_transform`: a milder augmentation\n",
    "##### - `strong_transform`: includes additional color jitter\n"
   ]
  },
  {
   "cell_type": "code",
   "execution_count": 57,
   "metadata": {},
   "outputs": [],
   "source": [
    "labeled_transform = transforms.Compose([\n",
    "    transforms.RandomCrop(32, padding=4),\n",
    "    transforms.RandomHorizontalFlip(),\n",
    "    transforms.ToTensor(),\n",
    "    transforms.Normalize([0.4914, 0.4822, 0.4465],\n",
    "                         [0.2470, 0.2435, 0.2616])\n",
    "])\n",
    "#import torchvision.transforms as transforms\n",
    "\n",
    "weak_transform = transforms.Compose([\n",
    "    transforms.RandomHorizontalFlip(),\n",
    "    transforms.RandomCrop(32, padding=4),\n",
    "    transforms.ToTensor(),\n",
    "    transforms.Normalize([0.4914, 0.4822, 0.4465],\n",
    "                         [0.2470, 0.2435, 0.2616])\n",
    "])\n",
    "\n",
    "strong_transform = transforms.Compose([\n",
    "    transforms.RandomHorizontalFlip(),\n",
    "    transforms.RandomCrop(32, padding=4),\n",
    "    transforms.ColorJitter(brightness=0.4, contrast=0.4,\n",
    "                           saturation=0.4, hue=0.1),\n",
    "    transforms.ToTensor(),\n",
    "    transforms.Normalize([0.4914, 0.4822, 0.4465],\n",
    "                         [0.2470, 0.2435, 0.2616])\n",
    "])\n"
   ]
  },
  {
   "cell_type": "code",
   "execution_count": 58,
   "metadata": {},
   "outputs": [],
   "source": [
    "import torch.nn.functional as F\n",
    "import torch\n",
    "\n",
    "def train_semisupervised_weak_strong(\n",
    "    model,\n",
    "    labeled_dataset,        \n",
    "    unlabeled_weak_strong,  \n",
    "    device='cpu',\n",
    "    epochs=50,\n",
    "    batch_size=64,\n",
    "    lr=1e-3,\n",
    "    unsup_weight=1.0,\n",
    "    conf_threshold=0.70\n",
    "):\n",
    "    labeled_loader   = DataLoader(labeled_dataset, batch_size=batch_size, shuffle=True)\n",
    "    unlabeled_loader = DataLoader(unlabeled_weak_strong, batch_size=batch_size, shuffle=True)\n",
    "\n",
    "    optimizer = torch.optim.Adam(model.parameters(), lr=lr)\n",
    "    criterion = nn.CrossEntropyLoss()\n",
    "\n",
    "    model.to(device)\n",
    "    model.train()\n",
    "\n",
    "    steps_per_epoch = min(len(labeled_loader), len(unlabeled_loader))\n",
    "\n",
    "    for epoch in range(epochs):\n",
    "        labeled_iter   = iter(labeled_loader)\n",
    "        unlabeled_iter = iter(unlabeled_loader)\n",
    "\n",
    "        for step in range(steps_per_epoch):\n",
    "            # 1) Labeled batch\n",
    "            x_l, y_l = next(labeled_iter, (None, None))\n",
    "            x_l, y_l = x_l.to(device), y_l.to(device)\n",
    "\n",
    "            # 2) Unlabeled batch => (x_weak, x_strong)\n",
    "            x_weak, x_strong = next(unlabeled_iter, (None, None))\n",
    "            x_weak, x_strong = x_weak.to(device), x_strong.to(device)\n",
    "\n",
    "            # -- Forward pass on labeled batch\n",
    "            logits_l = model(x_l)\n",
    "            sup_loss = criterion(logits_l, y_l)\n",
    "\n",
    "            # -- Forward pass on weakly augmented unlabeled\n",
    "            with torch.no_grad():\n",
    "                logits_weak = model(x_weak)\n",
    "                probs_weak = F.softmax(logits_weak, dim=1)\n",
    "                max_probs, pseudo_labels = probs_weak.max(dim=1)\n",
    "\n",
    "            # Confidence mask\n",
    "            mask = (max_probs >= conf_threshold).float()\n",
    "\n",
    "            # -- Forward pass on strongly augmented unlabeled\n",
    "            logits_strong = model(x_strong)\n",
    "            unsup_loss = criterion(logits_strong, pseudo_labels)\n",
    "            unsup_loss = (unsup_loss * mask).mean()\n",
    "\n",
    "            # Combine\n",
    "            loss = sup_loss + unsup_weight * unsup_loss\n",
    "\n",
    "            optimizer.zero_grad()\n",
    "            loss.backward()\n",
    "            optimizer.step()\n",
    "\n",
    "        # (Optional) Evaluate each epoch, or print progress\n",
    "        # e.g. print(\"Epoch:\", epoch, \"Sup loss:\", sup_loss.item(), \"Unsup loss:\", unsup_loss.item())\n",
    "\n",
    "    return model\n"
   ]
  },
  {
   "cell_type": "markdown",
   "metadata": {},
   "source": [
    "### Active Learning Loop (Fully Supervised)\n",
    "# \n",
    "#### This loop repeatedly:\n",
    "##### 1) Trains a fresh model from scratch on the labeled set (paper-style).\n",
    "##### 2) Evaluates on the test set.\n",
    "##### 3) Queries the next B samples (random or TPC(RP)).\n"
   ]
  },
  {
   "cell_type": "code",
   "execution_count": 59,
   "metadata": {},
   "outputs": [],
   "source": [
    "def active_learning_loop_fully_supervised(\n",
    "    trainset,\n",
    "    testloader,\n",
    "    selection_mode,   #\"random\" or \"tpcrp\"\n",
    "    initial_B=10,\n",
    "    cycle_B=10,\n",
    "    cycles=5,\n",
    "    device='cpu'\n",
    "):\n",
    "    \"\"\"\n",
    "    Each cycle:\n",
    "      1) Pick new labeled samples (random or TPC(RP)).\n",
    "      2) Train a fresh ResNet18 fully supervised.\n",
    "      3) Evaluate.\n",
    "    \"\"\"\n",
    "    unlabeled_indices = list(range(len(trainset)))\n",
    "    labeled_indices   = []\n",
    "\n",
    "    # Initial pick is random\n",
    "    init_selection = query_selection(\"random\", None, unlabeled_indices, trainset, B=initial_B)\n",
    "    for idx in init_selection:\n",
    "        unlabeled_indices.remove(idx)\n",
    "        labeled_indices.append(idx)\n",
    "\n",
    "    accuracies = []\n",
    "\n",
    "    for cycle in range(cycles):\n",
    "        print(f\"\\n=== FullySupervised Cycle {cycle}, #Labeled={len(labeled_indices)} ===\")\n",
    "\n",
    "        # Train a fresh model as directed by the paper\n",
    "        model = create_resnet18_for_cifar(num_classes=10)\n",
    "        model = train_fully_supervised(\n",
    "            model,\n",
    "            dataset=trainset,\n",
    "            labeled_indices=labeled_indices,\n",
    "            device=device,\n",
    "            epochs=100,\n",
    "            initial_lr=0.025,\n",
    "            batch_size=64\n",
    "        )\n",
    "\n",
    "        # Evaluate\n",
    "        acc = evaluate(model, testloader, device=device)\n",
    "        print(f\"Cycle {cycle} Accuracy: {acc:.2f}%\")\n",
    "        accuracies.append(acc)\n",
    "\n",
    "        # Query new B\n",
    "        new_selection = query_selection(\n",
    "            selection_mode,\n",
    "            \"fullysupervised\",\n",
    "            unlabeled_indices,\n",
    "            trainset,\n",
    "            device=device,\n",
    "            classifier=model,  # if using TPC(RP)\n",
    "            B=cycle_B\n",
    "        )\n",
    "        for idx in new_selection:\n",
    "            unlabeled_indices.remove(idx)\n",
    "            labeled_indices.append(idx)\n",
    "\n",
    "    return accuracies\n"
   ]
  },
  {
   "cell_type": "markdown",
   "metadata": {},
   "source": [
    "### Active Learning Loop: Self-Supervised\n",
    "# \n",
    "#### The function below implements a self-supervised active learning loop.\n",
    "##### 1. `simclr_model` to embed unlabeled samples, and then pick points using TPC(RP) or random selection.\n",
    "##### 2. After labeling those points, we train a linear classifier (`train_linear_on_embeddings`) on top of the SimCLR embeddings.\n",
    "##### 3. We evaluate the linear classifier with `evaluate_linear_on_embeddings`.\n",
    "##### 4. repeat for multiple cycles."
   ]
  },
  {
   "cell_type": "code",
   "execution_count": 68,
   "metadata": {},
   "outputs": [],
   "source": [
    "def active_learning_loop_self_supervised(\n",
    "    trainset,\n",
    "    testloader,\n",
    "    selection_mode,\n",
    "    simclr_model,    # pre-trained SimCLR model\n",
    "    initial_B=10,\n",
    "    cycle_B=10,\n",
    "    cycles=5,\n",
    "    device='cpu'\n",
    "):\n",
    "    \"\"\"\n",
    "    1) Use simclr_model for TPC(RP) queries.\n",
    "    2) Train a fresh ResNet18Classifier on the labeled set.\n",
    "    3) Evaluate each cycle.\n",
    "    \"\"\"\n",
    "\n",
    "    # Unlabeled pool initially includes all training indices\n",
    "    unlabeled_indices = list(range(len(trainset)))\n",
    "    labeled_indices   = []\n",
    "\n",
    "    # Initial pick using TPC(RP) + selfsupervised\n",
    "    init_selection = query_selection(\n",
    "        selection_mode,\n",
    "        \"selfsupervised\",\n",
    "        unlabeled_indices,\n",
    "        trainset,\n",
    "        device=device,\n",
    "        simclr_model=simclr_model,\n",
    "        B=initial_B\n",
    "    )\n",
    "    # Move them from unlabeled to labeled\n",
    "    for idx in init_selection:\n",
    "        unlabeled_indices.remove(idx)\n",
    "        labeled_indices.append(idx)\n",
    "\n",
    "    accuracies = []\n",
    "\n",
    "    # Active Learning cycles\n",
    "    for cycle in range(cycles):\n",
    "        print(f\"\\n=== SelfSupervised AL Cycle {cycle}, #Labeled={len(labeled_indices)} ===\")\n",
    "\n",
    "        # Train a linear classifier on the embeddings of the labeled set\n",
    "        linear_clf = train_linear_on_embeddings(\n",
    "            simclr_model=simclr_model,\n",
    "            dataset=trainset,\n",
    "            labeled_indices=labeled_indices,\n",
    "            embed_dim=512,   \n",
    "            num_classes=10,\n",
    "            epochs=100,\n",
    "            lr= 2.5, #0.01,      #2.5\n",
    "            batch_size=64,\n",
    "            device='cpu'\n",
    "        )\n",
    "\n",
    "        # Evaluate the linear classifier\n",
    "        acc = evaluate_linear_on_embeddings(\n",
    "            simclr_model=simclr_model,\n",
    "            linear_clf=linear_clf,\n",
    "            testset=testset,\n",
    "            batch_size=64,\n",
    "            device='cpu'\n",
    "        )\n",
    "        print(f\"Test Accuracy: {acc:.2f}%\")\n",
    "        accuracies.append(acc)\n",
    "\n",
    "        # Acquire more labels\n",
    "        # Next selection using simclr_model\n",
    "        new_selection = query_selection(\n",
    "            selection_mode,\n",
    "            \"selfsupervised\",\n",
    "            unlabeled_indices,\n",
    "            trainset,\n",
    "            device=device,\n",
    "            simclr_model=simclr_model,\n",
    "            B=cycle_B\n",
    "        )\n",
    "        for idx in new_selection:\n",
    "            unlabeled_indices.remove(idx)\n",
    "            labeled_indices.append(idx)\n",
    "\n",
    "    return accuracies"
   ]
  },
  {
   "cell_type": "markdown",
   "metadata": {},
   "source": [
    "### Class-Balanced Random Selection\n",
    "# \n",
    "##### This function picks exactly one example from each class. \n"
   ]
  },
  {
   "cell_type": "code",
   "execution_count": 61,
   "metadata": {},
   "outputs": [],
   "source": [
    "def class_balanced_random_selection(trainset, num_classes=10):\n",
    "    \"\"\"\n",
    "    Selects 1 example per class (class-balanced random selection).\n",
    "    Returns a list of indices.\n",
    "    \"\"\"\n",
    "    labeled_indices = []\n",
    "    for class_id in range(num_classes):\n",
    "        # Get all indices for the current class\n",
    "        class_indices = [idx for idx, label in enumerate(trainset.targets) if label == class_id]\n",
    "        # Randomly select 1 index for the current class\n",
    "        selected_idx = np.random.choice(class_indices, size=1, replace=False)[0]\n",
    "        labeled_indices.append(selected_idx)\n",
    "    return labeled_indices"
   ]
  },
  {
   "cell_type": "markdown",
   "metadata": {},
   "source": [
    "### Fixed-Budget Semi-Supervised Experiment\n",
    "# \n",
    "##### A single-shot approach (rather than iterative) where we pick `B` samples,\n",
    "##### train once in a semi-supervised manner, and evaluate. Repeat this for multiple seeds to measure variance.\n"
   ]
  },
  {
   "cell_type": "code",
   "execution_count": 62,
   "metadata": {},
   "outputs": [],
   "source": [
    "def fixed_budget_semisupervised_experiment(\n",
    "    trainset,\n",
    "    testloader,\n",
    "    selection_mode,\n",
    "    model_fn,\n",
    "    simclr_model=None,\n",
    "    B=10,\n",
    "    seeds=[0, 1, 2],\n",
    "    device='cpu'\n",
    "):\n",
    "    accuracies = []\n",
    "\n",
    "    for seed in seeds:\n",
    "        set_seed(seed)\n",
    "\n",
    "        # Select B labeled samples\n",
    "        if selection_mode == 'random':\n",
    "            labeled_indices = query_selection(\n",
    "                selection_mode='random',\n",
    "                embedding_mode=None,\n",
    "                unlabeled_indices=list(range(len(trainset))),\n",
    "                dataset=trainset,\n",
    "                device=device,\n",
    "                B=B\n",
    "            )\n",
    "        elif selection_mode == 'tpcrp':\n",
    "            labeled_indices = query_selection(\n",
    "                selection_mode='tpcrp',\n",
    "                embedding_mode='selfsupervised',\n",
    "                unlabeled_indices=list(range(len(trainset))),\n",
    "                dataset=trainset,\n",
    "                device=device,\n",
    "                simclr_model=simclr_model,\n",
    "                B=B\n",
    "            )\n",
    "        elif selection_mode == 'Balanced_random':\n",
    "            # Use class-balanced random selection\n",
    "            labeled_indices = class_balanced_random_selection(trainset)\n",
    "        else:\n",
    "            raise ValueError(f\"Unknown selection_mode: {selection_mode}\")\n",
    "\n",
    "        # Build labeled dataset\n",
    "        labeled_dataset = LabeledDataset(\n",
    "            base_dataset=trainset,\n",
    "            indices=labeled_indices,\n",
    "            transform=labeled_transform\n",
    "        )\n",
    "\n",
    "        # Build unlabeled dataset with strong and weak\n",
    "        unlabeled_subset = Subset(trainset, [idx for idx in range(len(trainset)) if idx not in labeled_indices])\n",
    "        unlabeled_ws = UnlabeledDatasetWeakStrong(\n",
    "            unlabeled_subset,\n",
    "            weak_transform,\n",
    "            strong_transform\n",
    "        )\n",
    "\n",
    "        # Train in a semi-supervised manner\n",
    "        model = model_fn(num_classes=10)\n",
    "        model = train_semisupervised_weak_strong(\n",
    "            model,\n",
    "            labeled_dataset=labeled_dataset,\n",
    "            unlabeled_weak_strong=unlabeled_ws,\n",
    "            device=device,\n",
    "            epochs=100,\n",
    "            batch_size=64,\n",
    "            lr=1e-3,\n",
    "            unsup_weight=1.0,\n",
    "            conf_threshold=0.70\n",
    "        )\n",
    "\n",
    "        # Evaluate \n",
    "        acc = evaluate(model, testloader, device=device)\n",
    "        accuracies.append(acc)\n",
    "\n",
    "    # Compute mean and std of accuracies\n",
    "    mean_acc = float(np.mean(accuracies))\n",
    "    std_acc = float(np.std(accuracies))\n",
    "    return mean_acc, std_acc"
   ]
  },
  {
   "cell_type": "markdown",
   "metadata": {},
   "source": [
    "#### Example Usage of Fixed-Budget Semi-Supervised \n",
    "##### Below, run the fixed-budget experiment with \"Balanced_random\" for a single shot,\n",
    "##### repeated over seeds [0,1,2]. Then do the same for \"random\" and \"tpcrp\".\n"
   ]
  },
  {
   "cell_type": "code",
   "execution_count": 26,
   "metadata": {},
   "outputs": [
    {
     "name": "stdout",
     "output_type": "stream",
     "text": [
      "Class-Balanced Random => Mean Accuracy: 13.61 ± 6.22\n"
     ]
    }
   ],
   "source": [
    "# Run for class-balanced random baseline\n",
    "mean_acc_class_balanced, std_acc_class_balanced = fixed_budget_semisupervised_experiment(\n",
    "    trainset,\n",
    "    testloader,\n",
    "    selection_mode='Balanced_random',\n",
    "    model_fn=create_resnet18_for_cifar,\n",
    "    simclr_model=None,  # Not needed for class-balanced random\n",
    "    B=10,  # Not used for class-balanced random\n",
    "    seeds=[0, 1, 2],\n",
    "    device='cpu'\n",
    ")\n",
    "print(f\"Class-Balanced Random => Mean Accuracy: {mean_acc_class_balanced:.2f} ± {std_acc_class_balanced:.2f}\")"
   ]
  },
  {
   "cell_type": "code",
   "execution_count": null,
   "metadata": {},
   "outputs": [
    {
     "name": "stdout",
     "output_type": "stream",
     "text": [
      "Random => 13.48 ± 0.69\n"
     ]
    }
   ],
   "source": [
    "mean_acc_random, std_acc_random = fixed_budget_semisupervised_experiment(\n",
    "    trainset,\n",
    "    testloader,\n",
    "    selection_mode='random',\n",
    "    model_fn=create_resnet18_for_cifar,\n",
    "    simclr_model=None,  # pre-trained model\n",
    "    B=10,\n",
    "    seeds=[0,1,2],\n",
    "    device='cpu'\n",
    ")\n",
    "print(f\"Random => {mean_acc_random:.2f} ± {std_acc_random:.2f}\")"
   ]
  },
  {
   "cell_type": "code",
   "execution_count": 28,
   "metadata": {},
   "outputs": [
    {
     "name": "stdout",
     "output_type": "stream",
     "text": [
      "Cluster distribution: {np.int32(0): np.int64(3906), np.int32(1): np.int64(2771), np.int32(2): np.int64(1736), np.int32(3): np.int64(1289), np.int32(4): np.int64(1416), np.int32(5): np.int64(18854), np.int32(6): np.int64(8717), np.int32(7): np.int64(3031), np.int32(8): np.int64(5165), np.int32(9): np.int64(3115)}\n",
      "Cluster distribution: {np.int32(0): np.int64(3906), np.int32(1): np.int64(2771), np.int32(2): np.int64(1736), np.int32(3): np.int64(1289), np.int32(4): np.int64(1416), np.int32(5): np.int64(18854), np.int32(6): np.int64(8717), np.int32(7): np.int64(3031), np.int32(8): np.int64(5165), np.int32(9): np.int64(3115)}\n",
      "Cluster distribution: {np.int32(0): np.int64(3906), np.int32(1): np.int64(2771), np.int32(2): np.int64(1736), np.int32(3): np.int64(1289), np.int32(4): np.int64(1416), np.int32(5): np.int64(18854), np.int32(6): np.int64(8717), np.int32(7): np.int64(3031), np.int32(8): np.int64(5165), np.int32(9): np.int64(3115)}\n",
      "TPC(RP) => 14.00 ± 1.06\n"
     ]
    }
   ],
   "source": [
    "import time\n",
    "mean_acc_tpcrp, std_acc_tpcrp = fixed_budget_semisupervised_experiment(\n",
    "    trainset,\n",
    "    testloader,\n",
    "    selection_mode='tpcrp',\n",
    "    model_fn=create_resnet18_for_cifar,\n",
    "    simclr_model=simclr_model,  # pre-trained model\n",
    "    B=10,\n",
    "    seeds=[0,1,2],\n",
    "    device='cpu'\n",
    ")\n",
    "print(f\"TPC(RP) => {mean_acc_tpcrp:.2f} ± {std_acc_tpcrp:.2f}\")\n",
    "#time.time()"
   ]
  },
  {
   "cell_type": "code",
   "execution_count": 29,
   "metadata": {},
   "outputs": [
    {
     "data": {
      "image/png": "[encoded data removed]",
      "text/plain": [
       "<Figure size 640x480 with 1 Axes>"
      ]
     },
     "metadata": {},
     "output_type": "display_data"
    }
   ],
   "source": [
    "import matplotlib.pyplot as plt\n",
    "\n",
    "methods = [\"Random\", \"Class-Balanced Random\", \"TPC(RP)\"]\n",
    "means = [mean_acc_random, mean_acc_class_balanced, mean_acc_tpcrp]\n",
    "stds  = [std_acc_random,  std_acc_class_balanced,  std_acc_tpcrp]\n",
    "\n",
    "colors = [\"tab:blue\", \"tab:green\", \"tab:orange\"]\n",
    "\n",
    "plt.bar(methods, means, yerr=stds, capsize=5, color=colors)\n",
    "plt.ylabel(\"Test Accuracy (%)\")\n",
    "plt.title(\"Fixed-Budget Semi-Supervised Learning (B=10) on CIFAR-10\")\n",
    "plt.show()\n"
   ]
  },
  {
   "cell_type": "code",
   "execution_count": 30,
   "metadata": {},
   "outputs": [],
   "source": [
    "import matplotlib.pyplot as plt\n",
    "\n",
    "def plot_accuracy_vs_budget(accs_random, accs_tpcrp, title=\"Fully Supervised Accuracy\"):\n",
    "    \"\"\"\n",
    "    accs_random: list of accuracy per cycle for 'random' approach\n",
    "    accs_tpcrp:  list of accuracy per cycle for 'tpcrp' approach\n",
    "    title: plot title\n",
    "    \"\"\"\n",
    "    # xvals are just 0..(len(accs_random)-1)\n",
    "    xvals = range(len(accs_random))  \n",
    "    # Each cycle adds 10 new samples, plus the initial 10 at cycle=0 = total_labeled = 10*(i+1)\n",
    "    budgets = [10*(i+1) for i in xvals]  \n",
    "\n",
    "    plt.figure()\n",
    "    plt.plot(xvals, accs_random, marker='o', color='green', label='Random')\n",
    "    plt.plot(xvals, accs_tpcrp, marker='o', color='orange', label='TPC(RP)')\n",
    "\n",
    "    # Rename the ticks to show the budgets\n",
    "    plt.xticks(ticks=xvals, labels=budgets)\n",
    "    plt.xlabel(\"Budget (labelled examples)\")\n",
    "    plt.ylabel(\"Accuracy (%)\")\n",
    "    plt.title(title)\n",
    "    plt.legend()\n",
    "    plt.show()"
   ]
  },
  {
   "cell_type": "code",
   "execution_count": 32,
   "metadata": {},
   "outputs": [
    {
     "name": "stdout",
     "output_type": "stream",
     "text": [
      "Running with no seed set (non-deterministic)\n",
      "\n",
      "=== FullySupervised Cycle 0, #Labeled=10 ===\n",
      "Cycle 0 Accuracy: 14.60%\n",
      "\n",
      "=== FullySupervised Cycle 1, #Labeled=20 ===\n",
      "Cycle 1 Accuracy: 19.12%\n",
      "\n",
      "=== FullySupervised Cycle 2, #Labeled=30 ===\n",
      "Cycle 2 Accuracy: 17.61%\n",
      "\n",
      "=== FullySupervised Cycle 3, #Labeled=40 ===\n",
      "Cycle 3 Accuracy: 20.10%\n",
      "\n",
      "=== FullySupervised Cycle 4, #Labeled=50 ===\n",
      "Cycle 4 Accuracy: 21.64%\n",
      "\n",
      "=== FullySupervised Cycle 0, #Labeled=10 ===\n",
      "Cycle 0 Accuracy: 16.51%\n",
      "Cluster distribution: {np.int32(0): np.int64(11119), np.int32(1): np.int64(2853), np.int32(2): np.int64(10524), np.int32(3): np.int64(1260), np.int32(4): np.int64(1992), np.int32(5): np.int64(4132), np.int32(6): np.int64(6058), np.int32(7): np.int64(4286), np.int32(8): np.int64(5154), np.int32(9): np.int64(2612)}\n",
      "\n",
      "=== FullySupervised Cycle 1, #Labeled=20 ===\n",
      "Cycle 1 Accuracy: 17.34%\n",
      "Cluster distribution: {np.int32(0): np.int64(7321), np.int32(1): np.int64(3218), np.int32(2): np.int64(8970), np.int32(3): np.int64(4388), np.int32(4): np.int64(9607), np.int32(5): np.int64(738), np.int32(6): np.int64(4772), np.int32(7): np.int64(2276), np.int32(8): np.int64(6657), np.int32(9): np.int64(2033)}\n",
      "\n",
      "=== FullySupervised Cycle 2, #Labeled=30 ===\n",
      "Cycle 2 Accuracy: 19.86%\n",
      "Cluster distribution: {np.int32(0): np.int64(4492), np.int32(1): np.int64(6427), np.int32(2): np.int64(708), np.int32(3): np.int64(5746), np.int32(4): np.int64(185), np.int32(5): np.int64(5332), np.int32(6): np.int64(1723), np.int32(7): np.int64(11719), np.int32(8): np.int64(10319), np.int32(9): np.int64(3319)}\n",
      "\n",
      "=== FullySupervised Cycle 3, #Labeled=40 ===\n",
      "Cycle 3 Accuracy: 21.13%\n",
      "Cluster distribution: {np.int32(0): np.int64(5052), np.int32(1): np.int64(10494), np.int32(2): np.int64(7290), np.int32(3): np.int64(3321), np.int32(4): np.int64(948), np.int32(5): np.int64(3040), np.int32(6): np.int64(6546), np.int32(7): np.int64(4930), np.int32(8): np.int64(3338), np.int32(9): np.int64(5001)}\n",
      "\n",
      "=== FullySupervised Cycle 4, #Labeled=50 ===\n",
      "Cycle 4 Accuracy: 19.76%\n",
      "Cluster distribution: {np.int32(0): np.int64(3292), np.int32(1): np.int64(7768), np.int32(2): np.int64(4368), np.int32(3): np.int64(4777), np.int32(4): np.int64(3695), np.int32(5): np.int64(6051), np.int32(6): np.int64(9209), np.int32(7): np.int64(4841), np.int32(8): np.int64(1543), np.int32(9): np.int64(4406)}\n",
      "Running with seed=0\n",
      "\n",
      "=== FullySupervised Cycle 0, #Labeled=10 ===\n",
      "Cycle 0 Accuracy: 13.97%\n",
      "\n",
      "=== FullySupervised Cycle 1, #Labeled=20 ===\n",
      "Cycle 1 Accuracy: 17.99%\n",
      "\n",
      "=== FullySupervised Cycle 2, #Labeled=30 ===\n",
      "Cycle 2 Accuracy: 18.94%\n",
      "\n",
      "=== FullySupervised Cycle 3, #Labeled=40 ===\n",
      "Cycle 3 Accuracy: 19.81%\n",
      "\n",
      "=== FullySupervised Cycle 4, #Labeled=50 ===\n",
      "Cycle 4 Accuracy: 23.03%\n",
      "\n",
      "=== FullySupervised Cycle 0, #Labeled=10 ===\n",
      "Cycle 0 Accuracy: 11.75%\n",
      "Cluster distribution: {np.int32(0): np.int64(4467), np.int32(1): np.int64(13834), np.int32(2): np.int64(1581), np.int32(3): np.int64(1687), np.int32(4): np.int64(2032), np.int32(5): np.int64(4782), np.int32(6): np.int64(5180), np.int32(7): np.int64(2324), np.int32(8): np.int64(7225), np.int32(9): np.int64(6878)}\n",
      "\n",
      "=== FullySupervised Cycle 1, #Labeled=20 ===\n",
      "Cycle 1 Accuracy: 16.28%\n",
      "Cluster distribution: {np.int32(0): np.int64(4220), np.int32(1): np.int64(2088), np.int32(2): np.int64(12487), np.int32(3): np.int64(967), np.int32(4): np.int64(5863), np.int32(5): np.int64(5385), np.int32(6): np.int64(3500), np.int32(7): np.int64(3185), np.int32(8): np.int64(5136), np.int32(9): np.int64(7149)}\n",
      "\n",
      "=== FullySupervised Cycle 2, #Labeled=30 ===\n",
      "Cycle 2 Accuracy: 16.60%\n",
      "Cluster distribution: {np.int32(0): np.int64(6187), np.int32(1): np.int64(9255), np.int32(2): np.int64(2266), np.int32(3): np.int64(1438), np.int32(4): np.int64(2207), np.int32(5): np.int64(3056), np.int32(6): np.int64(7864), np.int32(7): np.int64(4189), np.int32(8): np.int64(8625), np.int32(9): np.int64(4883)}\n",
      "\n",
      "=== FullySupervised Cycle 3, #Labeled=40 ===\n",
      "Cycle 3 Accuracy: 19.87%\n",
      "Cluster distribution: {np.int32(0): np.int64(3497), np.int32(1): np.int64(7338), np.int32(2): np.int64(10695), np.int32(3): np.int64(4074), np.int32(4): np.int64(5011), np.int32(5): np.int64(3314), np.int32(6): np.int64(304), np.int32(7): np.int64(5521), np.int32(8): np.int64(3444), np.int32(9): np.int64(6762)}\n",
      "\n",
      "=== FullySupervised Cycle 4, #Labeled=50 ===\n",
      "Cycle 4 Accuracy: 21.48%\n",
      "Cluster distribution: {np.int32(0): np.int64(2092), np.int32(1): np.int64(10420), np.int32(2): np.int64(6341), np.int32(3): np.int64(2081), np.int32(4): np.int64(2488), np.int32(5): np.int64(7377), np.int32(6): np.int64(3374), np.int32(7): np.int64(5188), np.int32(8): np.int64(5336), np.int32(9): np.int64(5253)}\n",
      "Running with seed=100\n",
      "\n",
      "=== FullySupervised Cycle 0, #Labeled=10 ===\n",
      "Cycle 0 Accuracy: 14.77%\n",
      "\n",
      "=== FullySupervised Cycle 1, #Labeled=20 ===\n",
      "Cycle 1 Accuracy: 16.55%\n",
      "\n",
      "=== FullySupervised Cycle 2, #Labeled=30 ===\n",
      "Cycle 2 Accuracy: 19.35%\n",
      "\n",
      "=== FullySupervised Cycle 3, #Labeled=40 ===\n",
      "Cycle 3 Accuracy: 20.90%\n",
      "\n",
      "=== FullySupervised Cycle 4, #Labeled=50 ===\n",
      "Cycle 4 Accuracy: 21.48%\n",
      "\n",
      "=== FullySupervised Cycle 0, #Labeled=10 ===\n",
      "Cycle 0 Accuracy: 14.97%\n",
      "Cluster distribution: {np.int32(0): np.int64(4071), np.int32(1): np.int64(2940), np.int32(2): np.int64(5600), np.int32(3): np.int64(1503), np.int32(4): np.int64(10527), np.int32(5): np.int64(7015), np.int32(6): np.int64(3755), np.int32(7): np.int64(5284), np.int32(8): np.int64(5900), np.int32(9): np.int64(3395)}\n",
      "\n",
      "=== FullySupervised Cycle 1, #Labeled=20 ===\n",
      "Cycle 1 Accuracy: 16.41%\n",
      "Cluster distribution: {np.int32(0): np.int64(5709), np.int32(1): np.int64(3107), np.int32(2): np.int64(6600), np.int32(3): np.int64(4441), np.int32(4): np.int64(5255), np.int32(5): np.int64(1613), np.int32(6): np.int64(5825), np.int32(7): np.int64(1944), np.int32(8): np.int64(5834), np.int32(9): np.int64(9652)}\n",
      "\n",
      "=== FullySupervised Cycle 2, #Labeled=30 ===\n",
      "Cycle 2 Accuracy: 18.04%\n",
      "Cluster distribution: {np.int32(0): np.int64(7199), np.int32(1): np.int64(8979), np.int32(2): np.int64(6745), np.int32(3): np.int64(5293), np.int32(4): np.int64(1917), np.int32(5): np.int64(2021), np.int32(6): np.int64(4409), np.int32(7): np.int64(4888), np.int32(8): np.int64(3595), np.int32(9): np.int64(4924)}\n",
      "\n",
      "=== FullySupervised Cycle 3, #Labeled=40 ===\n",
      "Cycle 3 Accuracy: 17.98%\n",
      "Cluster distribution: {np.int32(0): np.int64(2185), np.int32(1): np.int64(6820), np.int32(2): np.int64(6531), np.int32(3): np.int64(5561), np.int32(4): np.int64(273), np.int32(5): np.int64(8682), np.int32(6): np.int64(2062), np.int32(7): np.int64(7172), np.int32(8): np.int64(4976), np.int32(9): np.int64(5698)}\n",
      "\n",
      "=== FullySupervised Cycle 4, #Labeled=50 ===\n",
      "Cycle 4 Accuracy: 19.29%\n",
      "Cluster distribution: {np.int32(0): np.int64(6309), np.int32(1): np.int64(4795), np.int32(2): np.int64(3297), np.int32(3): np.int64(1863), np.int32(4): np.int64(2283), np.int32(5): np.int64(4224), np.int32(6): np.int64(5390), np.int32(7): np.int64(9934), np.int32(8): np.int64(7302), np.int32(9): np.int64(4553)}\n"
     ]
    },
    {
     "data": {
      "image/png": "[encoded data removed]",
      "text/plain": [
       "<Figure size 640x480 with 1 Axes>"
      ]
     },
     "metadata": {},
     "output_type": "display_data"
    }
   ],
   "source": [
    "import numpy as np\n",
    "\n",
    "all_runs_random = []\n",
    "all_runs_tpcrp = []\n",
    "\n",
    "for s in [None, 0, 100]:\n",
    "    if s is not None:\n",
    "        set_seed(s)\n",
    "        print(f\"Running with seed={s}\")\n",
    "    else:\n",
    "        print(\"Running with no seed set (non-deterministic)\")\n",
    "\n",
    "    #set_seed(s)\n",
    "    accs_rm = active_learning_loop_fully_supervised(trainset, testloader, selection_mode=\"random\", initial_B=10, cycle_B=10, cycles=5)\n",
    "    accs_tp = active_learning_loop_fully_supervised(trainset, testloader, selection_mode=\"tpcrp\", initial_B=10, cycle_B=10, cycles=5)\n",
    "    all_runs_random.append(accs_rm)\n",
    "    all_runs_tpcrp.append(accs_tp)\n",
    "\n",
    "# Convert to numpy arrays of shape [num_seeds, cycle]\n",
    "all_runs_random = np.array(all_runs_random)\n",
    "all_runs_tpcrp  = np.array(all_runs_tpcrp)\n",
    "\n",
    "# Take the mean (and std) across seeds = shape [cycles]\n",
    "mean_random = all_runs_random.mean(axis=0)\n",
    "std_random  = all_runs_random.std(axis=0)\n",
    "mean_tpcrp  = all_runs_tpcrp.mean(axis=0)\n",
    "std_tpcrp   = all_runs_tpcrp.std(axis=0)\n",
    "\n",
    "# Plot the averaged curves\n",
    "plot_accuracy_vs_budget(mean_random, mean_tpcrp, title=\"Fully Supervised AL (Mean of 3 seeds)\")\n"
   ]
  },
  {
   "cell_type": "markdown",
   "metadata": {},
   "source": [
    "### Below, shows two learning-rate scenarios (2.5 vs. 0.01) for self-supervised AL. Users can modify the LR in the code cells if they wish to explore other values."
   ]
  },
  {
   "cell_type": "code",
   "execution_count": 39,
   "metadata": {},
   "outputs": [
    {
     "name": "stdout",
     "output_type": "stream",
     "text": [
      "\n",
      "=== SelfSupervised AL Cycle 0, #Labeled=10 ===\n",
      "Test Accuracy: 29.67%\n",
      "\n",
      "=== SelfSupervised AL Cycle 1, #Labeled=20 ===\n",
      "Test Accuracy: 32.25%\n",
      "\n",
      "=== SelfSupervised AL Cycle 2, #Labeled=30 ===\n",
      "Test Accuracy: 42.96%\n",
      "\n",
      "=== SelfSupervised AL Cycle 3, #Labeled=40 ===\n",
      "Test Accuracy: 41.15%\n",
      "\n",
      "=== SelfSupervised AL Cycle 4, #Labeled=50 ===\n",
      "Test Accuracy: 47.73%\n",
      "Self-Supervised Random: [29.67, 32.25, 42.96, 41.15, 47.73]\n"
     ]
    }
   ],
   "source": [
    "#set_seed(42)\n",
    "accs_self_rand_lr01= active_learning_loop_self_supervised(\n",
    "    trainset, testloader, selection_mode='random',\n",
    "    simclr_model=simclr_model,\n",
    "    initial_B=10, cycle_B=10, cycles=5\n",
    ")\n",
    "print(\"Self-Supervised Random:\", accs_self_rand_lr01)"
   ]
  },
  {
   "cell_type": "code",
   "execution_count": 34,
   "metadata": {},
   "outputs": [
    {
     "name": "stdout",
     "output_type": "stream",
     "text": [
      "Cluster distribution: {np.int32(0): np.int64(3906), np.int32(1): np.int64(2771), np.int32(2): np.int64(1736), np.int32(3): np.int64(1289), np.int32(4): np.int64(1416), np.int32(5): np.int64(18854), np.int32(6): np.int64(8717), np.int32(7): np.int64(3031), np.int32(8): np.int64(5165), np.int32(9): np.int64(3115)}\n",
      "\n",
      "=== SelfSupervised AL Cycle 0, #Labeled=10 ===\n",
      "Test Accuracy: 33.82%\n",
      "Cluster distribution: {np.int32(0): np.int64(8827), np.int32(1): np.int64(5164), np.int32(2): np.int64(1735), np.int32(3): np.int64(18881), np.int32(4): np.int64(3904), np.int32(5): np.int64(2990), np.int32(6): np.int64(2765), np.int32(7): np.int64(1315), np.int32(8): np.int64(3058), np.int32(9): np.int64(1351)}\n",
      "\n",
      "=== SelfSupervised AL Cycle 1, #Labeled=20 ===\n",
      "Test Accuracy: 41.34%\n",
      "Cluster distribution: {np.int32(0): np.int64(3329), np.int32(1): np.int64(1282), np.int32(2): np.int64(1321), np.int32(3): np.int64(9783), np.int32(4): np.int64(3952), np.int32(5): np.int64(2881), np.int32(6): np.int64(166), np.int32(7): np.int64(2755), np.int32(8): np.int64(21638), np.int32(9): np.int64(2873)}\n",
      "\n",
      "=== SelfSupervised AL Cycle 2, #Labeled=30 ===\n",
      "Test Accuracy: 45.82%\n",
      "Cluster distribution: {np.int32(0): np.int64(9534), np.int32(1): np.int64(3496), np.int32(2): np.int64(1734), np.int32(3): np.int64(2758), np.int32(4): np.int64(3974), np.int32(5): np.int64(1254), np.int32(6): np.int64(168), np.int32(7): np.int64(18782), np.int32(8): np.int64(3127), np.int32(9): np.int64(5143)}\n",
      "\n",
      "=== SelfSupervised AL Cycle 3, #Labeled=40 ===\n",
      "Test Accuracy: 51.71%\n",
      "Cluster distribution: {np.int32(0): np.int64(587), np.int32(1): np.int64(5150), np.int32(2): np.int64(3594), np.int32(3): np.int64(9530), np.int32(4): np.int64(2689), np.int32(5): np.int64(3981), np.int32(6): np.int64(1377), np.int32(7): np.int64(2749), np.int32(8): np.int64(1733), np.int32(9): np.int64(18570)}\n",
      "\n",
      "=== SelfSupervised AL Cycle 4, #Labeled=50 ===\n",
      "Test Accuracy: 51.30%\n",
      "Cluster distribution: {np.int32(0): np.int64(17308), np.int32(1): np.int64(3760), np.int32(2): np.int64(8896), np.int32(3): np.int64(3563), np.int32(4): np.int64(2920), np.int32(5): np.int64(2681), np.int32(6): np.int64(1297), np.int32(7): np.int64(5077), np.int32(8): np.int64(2716), np.int32(9): np.int64(1732)}\n",
      "Self-Supervised tpcrp: [33.82, 41.34, 45.82, 51.71, 51.3]\n"
     ]
    }
   ],
   "source": [
    "accs_self_tpcrp_lr01= active_learning_loop_self_supervised(\n",
    "    trainset, testloader, selection_mode='tpcrp',\n",
    "    simclr_model=simclr_model,\n",
    "    initial_B=10, cycle_B=10, cycles=5\n",
    ")\n",
    "print(\"Self-Supervised tpcrp:\", accs_self_tpcrp_lr01)"
   ]
  },
  {
   "cell_type": "code",
   "execution_count": 40,
   "metadata": {},
   "outputs": [
    {
     "data": {
      "image/png": "[encoded data removed]",
      "text/plain": [
       "<Figure size 640x480 with 1 Axes>"
      ]
     },
     "metadata": {},
     "output_type": "display_data"
    }
   ],
   "source": [
    "plot_accuracy_vs_budget(accs_self_rand_lr01, accs_self_tpcrp_lr01, \"Self supervised with lr=0.01\")"
   ]
  },
  {
   "cell_type": "code",
   "execution_count": null,
   "metadata": {},
   "outputs": [
    {
     "data": {
      "image/png": "[encoded data removed]",
      "text/plain": [
       "<Figure size 640x480 with 1 Axes>"
      ]
     },
     "metadata": {},
     "output_type": "display_data"
    }
   ],
   "source": [
    "#plot_accuracy_vs_budget(accs_self_ran_lr10, accs_self_tpcrp_lr10, \n",
    " #                       title=\"Self-Supervised: Random vs. TPC(RP) using lr=0.01\")"
   ]
  },
  {
   "cell_type": "code",
   "execution_count": null,
   "metadata": {},
   "outputs": [
    {
     "name": "stdout",
     "output_type": "stream",
     "text": [
      "\n",
      "=== SelfSupervised AL Cycle 0, #Labeled=10 ===\n",
      "Test Accuracy: 36.78%\n",
      "\n",
      "=== SelfSupervised AL Cycle 1, #Labeled=20 ===\n",
      "Test Accuracy: 46.10%\n",
      "\n",
      "=== SelfSupervised AL Cycle 2, #Labeled=30 ===\n",
      "Test Accuracy: 64.18%\n",
      "\n",
      "=== SelfSupervised AL Cycle 3, #Labeled=40 ===\n",
      "Test Accuracy: 66.30%\n",
      "\n",
      "=== SelfSupervised AL Cycle 4, #Labeled=50 ===\n",
      "Test Accuracy: 67.43%\n",
      "Self-Supervised Random: [36.78, 46.1, 64.18, 66.3, 67.43]\n"
     ]
    }
   ],
   "source": [
    "#set_seed(42)\n",
    "accs_self_rand= active_learning_loop_self_supervised(\n",
    "    trainset, testloader, selection_mode='random',\n",
    "    simclr_model=simclr_model,\n",
    "    initial_B=10, cycle_B=10, cycles=5\n",
    ")\n",
    "print(\"Self-Supervised Random lr2.5:\", accs_self_rand)"
   ]
  },
  {
   "cell_type": "code",
   "execution_count": null,
   "metadata": {},
   "outputs": [
    {
     "name": "stdout",
     "output_type": "stream",
     "text": [
      "Cluster distribution: {np.int32(0): np.int64(3906), np.int32(1): np.int64(2771), np.int32(2): np.int64(1736), np.int32(3): np.int64(1289), np.int32(4): np.int64(1416), np.int32(5): np.int64(18854), np.int32(6): np.int64(8717), np.int32(7): np.int64(3031), np.int32(8): np.int64(5165), np.int32(9): np.int64(3115)}\n",
      "\n",
      "=== SelfSupervised AL Cycle 0, #Labeled=10 ===\n",
      "Test Accuracy: 40.49%\n",
      "Cluster distribution: {np.int32(0): np.int64(8827), np.int32(1): np.int64(5164), np.int32(2): np.int64(1735), np.int32(3): np.int64(18881), np.int32(4): np.int64(3904), np.int32(5): np.int64(2990), np.int32(6): np.int64(2765), np.int32(7): np.int64(1315), np.int32(8): np.int64(3058), np.int32(9): np.int64(1351)}\n",
      "\n",
      "=== SelfSupervised AL Cycle 1, #Labeled=20 ===\n",
      "Test Accuracy: 41.52%\n",
      "Cluster distribution: {np.int32(0): np.int64(3329), np.int32(1): np.int64(1282), np.int32(2): np.int64(1321), np.int32(3): np.int64(9783), np.int32(4): np.int64(3952), np.int32(5): np.int64(2881), np.int32(6): np.int64(166), np.int32(7): np.int64(2755), np.int32(8): np.int64(21638), np.int32(9): np.int64(2873)}\n",
      "\n",
      "=== SelfSupervised AL Cycle 2, #Labeled=30 ===\n",
      "Test Accuracy: 52.73%\n",
      "Cluster distribution: {np.int32(0): np.int64(9534), np.int32(1): np.int64(3496), np.int32(2): np.int64(1734), np.int32(3): np.int64(2758), np.int32(4): np.int64(3974), np.int32(5): np.int64(1254), np.int32(6): np.int64(168), np.int32(7): np.int64(18782), np.int32(8): np.int64(3127), np.int32(9): np.int64(5143)}\n",
      "\n",
      "=== SelfSupervised AL Cycle 3, #Labeled=40 ===\n",
      "Test Accuracy: 54.68%\n",
      "Cluster distribution: {np.int32(0): np.int64(587), np.int32(1): np.int64(5150), np.int32(2): np.int64(3594), np.int32(3): np.int64(9530), np.int32(4): np.int64(2689), np.int32(5): np.int64(3981), np.int32(6): np.int64(1377), np.int32(7): np.int64(2749), np.int32(8): np.int64(1733), np.int32(9): np.int64(18570)}\n",
      "\n",
      "=== SelfSupervised AL Cycle 4, #Labeled=50 ===\n",
      "Test Accuracy: 57.85%\n",
      "Cluster distribution: {np.int32(0): np.int64(17308), np.int32(1): np.int64(3760), np.int32(2): np.int64(8896), np.int32(3): np.int64(3563), np.int32(4): np.int64(2920), np.int32(5): np.int64(2681), np.int32(6): np.int64(1297), np.int32(7): np.int64(5077), np.int32(8): np.int64(2716), np.int32(9): np.int64(1732)}\n",
      "Self-Supervised tpcrp: [40.49, 41.52, 52.73, 54.68, 57.85]\n"
     ]
    }
   ],
   "source": [
    "#set_seed(42)\n",
    "accs_self_tpcrp= active_learning_loop_self_supervised(\n",
    "    trainset, testloader, selection_mode='tpcrp',\n",
    "    simclr_model=simclr_model,\n",
    "    initial_B=10, cycle_B=10, cycles=5\n",
    ")\n",
    "print(\"Self-Supervised tpcrp lr2.5:\", accs_self_tpcrp)"
   ]
  },
  {
   "cell_type": "code",
   "execution_count": 52,
   "metadata": {},
   "outputs": [
    {
     "data": {
      "image/png": "[encoded data removed]",
      "text/plain": [
       "<Figure size 640x480 with 1 Axes>"
      ]
     },
     "metadata": {},
     "output_type": "display_data"
    }
   ],
   "source": [
    "plot_accuracy_vs_budget(accs_self_rand, accs_self_tpcrp, \"Self Supervised using lr=2.5\")"
   ]
  },
  {
   "cell_type": "code",
   "execution_count": 73,
   "metadata": {},
   "outputs": [
    {
     "name": "stdout",
     "output_type": "stream",
     "text": [
      "\n",
      "=== FullySupervised Cycle 0, #Labeled=10 ===\n",
      "Cycle 0 Accuracy: 19.10%\n",
      "Cluster distribution: {np.int32(0): np.int64(9000), np.int32(1): np.int64(468), np.int32(2): np.int64(2198), np.int32(3): np.int64(2197), np.int32(4): np.int64(9456), np.int32(5): np.int64(10203), np.int32(6): np.int64(6380), np.int32(7): np.int64(3909), np.int32(8): np.int64(4931), np.int32(9): np.int64(1248)}\n",
      "\n",
      "=== FullySupervised Cycle 1, #Labeled=20 ===\n",
      "Cycle 1 Accuracy: 19.76%\n",
      "Cluster distribution: {np.int32(0): np.int64(7432), np.int32(1): np.int64(3644), np.int32(2): np.int64(1322), np.int32(3): np.int64(7994), np.int32(4): np.int64(2000), np.int32(5): np.int64(3595), np.int32(6): np.int64(337), np.int32(7): np.int64(7967), np.int32(8): np.int64(2783), np.int32(9): np.int64(12906)}\n",
      "\n",
      "=== FullySupervised Cycle 2, #Labeled=30 ===\n",
      "Cycle 2 Accuracy: 21.83%\n",
      "Cluster distribution: {np.int32(0): np.int64(1526), np.int32(1): np.int64(7397), np.int32(2): np.int64(1046), np.int32(3): np.int64(8643), np.int32(4): np.int64(4006), np.int32(5): np.int64(3364), np.int32(6): np.int64(1839), np.int32(7): np.int64(9012), np.int32(8): np.int64(6281), np.int32(9): np.int64(6856)}\n",
      "\n",
      "=== FullySupervised Cycle 3, #Labeled=40 ===\n",
      "Cycle 3 Accuracy: 22.59%\n",
      "Cluster distribution: {np.int32(0): np.int64(2973), np.int32(1): np.int64(4286), np.int32(2): np.int64(5188), np.int32(3): np.int64(3283), np.int32(4): np.int64(1310), np.int32(5): np.int64(7331), np.int32(6): np.int64(253), np.int32(7): np.int64(5063), np.int32(8): np.int64(7786), np.int32(9): np.int64(12487)}\n",
      "\n",
      "=== FullySupervised Cycle 4, #Labeled=50 ===\n",
      "Cycle 4 Accuracy: 21.76%\n",
      "Cluster distribution: {np.int32(0): np.int64(3886), np.int32(1): np.int64(648), np.int32(2): np.int64(9470), np.int32(3): np.int64(526), np.int32(4): np.int64(6471), np.int32(5): np.int64(3625), np.int32(6): np.int64(3667), np.int32(7): np.int64(1864), np.int32(8): np.int64(8430), np.int32(9): np.int64(11363)}\n",
      "Fully-Supervised tpcrp modified: [19.1, 19.76, 21.83, 22.59, 21.76]\n"
     ]
    }
   ],
   "source": [
    "set_seed(42)\n",
    "accs_full_tpcrp_mod= active_learning_loop_fully_supervised(\n",
    "    trainset, testloader, selection_mode='tpcrp',\n",
    "    #simclr_model=simclr_model,\n",
    "    initial_B=10, cycle_B=10, cycles=5\n",
    ")\n",
    "print(\"Fully-Supervised tpcrp modified:\", accs_full_tpcrp_mod)"
   ]
  },
  {
   "cell_type": "code",
   "execution_count": 78,
   "metadata": {},
   "outputs": [
    {
     "name": "stdout",
     "output_type": "stream",
     "text": [
      "\n",
      "=== FullySupervised Cycle 0, #Labeled=10 ===\n",
      "Cycle 0 Accuracy: 13.97%\n",
      "Cluster distribution: {np.int32(0): np.int64(5267), np.int32(1): np.int64(2763), np.int32(2): np.int64(4179), np.int32(3): np.int64(4730), np.int32(4): np.int64(1318), np.int32(5): np.int64(1499), np.int32(6): np.int64(5188), np.int32(7): np.int64(12185), np.int32(8): np.int64(10620), np.int32(9): np.int64(2241)}\n",
      "\n",
      "=== FullySupervised Cycle 1, #Labeled=20 ===\n",
      "Cycle 1 Accuracy: 17.09%\n",
      "Cluster distribution: {np.int32(0): np.int64(5248), np.int32(1): np.int64(4007), np.int32(2): np.int64(6771), np.int32(3): np.int64(1906), np.int32(4): np.int64(3387), np.int32(5): np.int64(8188), np.int32(6): np.int64(2302), np.int32(7): np.int64(575), np.int32(8): np.int64(10432), np.int32(9): np.int64(7164)}\n",
      "\n",
      "=== FullySupervised Cycle 2, #Labeled=30 ===\n",
      "Cycle 2 Accuracy: 17.58%\n",
      "Cluster distribution: {np.int32(0): np.int64(7968), np.int32(1): np.int64(7779), np.int32(2): np.int64(2389), np.int32(3): np.int64(6812), np.int32(4): np.int64(3895), np.int32(5): np.int64(3552), np.int32(6): np.int64(5331), np.int32(7): np.int64(2632), np.int32(8): np.int64(970), np.int32(9): np.int64(8642)}\n",
      "\n",
      "=== FullySupervised Cycle 3, #Labeled=40 ===\n",
      "Cycle 3 Accuracy: 20.89%\n",
      "Cluster distribution: {np.int32(0): np.int64(3132), np.int32(1): np.int64(2515), np.int32(2): np.int64(5321), np.int32(3): np.int64(6871), np.int32(4): np.int64(6496), np.int32(5): np.int64(4657), np.int32(6): np.int64(3910), np.int32(7): np.int64(5782), np.int32(8): np.int64(8402), np.int32(9): np.int64(2874)}\n",
      "\n",
      "=== FullySupervised Cycle 4, #Labeled=50 ===\n",
      "Cycle 4 Accuracy: 21.18%\n",
      "Cluster distribution: {np.int32(0): np.int64(5074), np.int32(1): np.int64(9559), np.int32(2): np.int64(2245), np.int32(3): np.int64(3303), np.int32(4): np.int64(6206), np.int32(5): np.int64(1335), np.int32(6): np.int64(2840), np.int32(7): np.int64(6548), np.int32(8): np.int64(7887), np.int32(9): np.int64(4953)}\n",
      "Fully-Supervised tpcrp modified: [13.97, 17.09, 17.58, 20.89, 21.18]\n"
     ]
    }
   ],
   "source": [
    "set_seed(0)\n",
    "accs_full_tpcrp_mod_s0= active_learning_loop_fully_supervised(\n",
    "    trainset, testloader, selection_mode='tpcrp',\n",
    "    #simclr_model=simclr_model,\n",
    "    initial_B=10, cycle_B=10, cycles=5\n",
    ")\n",
    "print(\"Fully-Supervised tpcrp modified:\", accs_full_tpcrp_mod_s0)"
   ]
  },
  {
   "cell_type": "code",
   "execution_count": 72,
   "metadata": {},
   "outputs": [
    {
     "name": "stdout",
     "output_type": "stream",
     "text": [
      "Cluster distribution: {np.int32(0): np.int64(3906), np.int32(1): np.int64(2771), np.int32(2): np.int64(1736), np.int32(3): np.int64(1289), np.int32(4): np.int64(1416), np.int32(5): np.int64(18854), np.int32(6): np.int64(8717), np.int32(7): np.int64(3031), np.int32(8): np.int64(5165), np.int32(9): np.int64(3115)}\n",
      "\n",
      "=== SelfSupervised AL Cycle 0, #Labeled=10 ===\n",
      "Test Accuracy: 41.44%\n",
      "Cluster distribution: {np.int32(0): np.int64(3898), np.int32(1): np.int64(2990), np.int32(2): np.int64(2749), np.int32(3): np.int64(1967), np.int32(4): np.int64(1735), np.int32(5): np.int64(2754), np.int32(6): np.int64(18728), np.int32(7): np.int64(5141), np.int32(8): np.int64(8677), np.int32(9): np.int64(1351)}\n",
      "\n",
      "=== SelfSupervised AL Cycle 1, #Labeled=20 ===\n",
      "Test Accuracy: 42.32%\n",
      "Cluster distribution: {np.int32(0): np.int64(9782), np.int32(1): np.int64(2768), np.int32(2): np.int64(4012), np.int32(3): np.int64(900), np.int32(4): np.int64(1546), np.int32(5): np.int64(4775), np.int32(6): np.int64(19466), np.int32(7): np.int64(3086), np.int32(8): np.int64(169), np.int32(9): np.int64(3476)}\n",
      "\n",
      "=== SelfSupervised AL Cycle 2, #Labeled=30 ===\n",
      "Test Accuracy: 56.54%\n",
      "Cluster distribution: {np.int32(0): np.int64(3150), np.int32(1): np.int64(3913), np.int32(2): np.int64(3508), np.int32(3): np.int64(585), np.int32(4): np.int64(2744), np.int32(5): np.int64(2693), np.int32(6): np.int64(5126), np.int32(7): np.int64(8110), np.int32(8): np.int64(1733), np.int32(9): np.int64(18408)}\n",
      "\n",
      "=== SelfSupervised AL Cycle 3, #Labeled=40 ===\n",
      "Test Accuracy: 61.89%\n",
      "Cluster distribution: {np.int32(0): np.int64(2975), np.int32(1): np.int64(18924), np.int32(2): np.int64(1359), np.int32(3): np.int64(1752), np.int32(4): np.int64(8781), np.int32(5): np.int64(3101), np.int32(6): np.int64(3900), np.int32(7): np.int64(5152), np.int32(8): np.int64(2761), np.int32(9): np.int64(1255)}\n",
      "\n",
      "=== SelfSupervised AL Cycle 4, #Labeled=50 ===\n",
      "Test Accuracy: 61.59%\n",
      "Cluster distribution: {np.int32(0): np.int64(8884), np.int32(1): np.int64(19755), np.int32(2): np.int64(3940), np.int32(3): np.int64(2773), np.int32(4): np.int64(3199), np.int32(5): np.int64(1347), np.int32(6): np.int64(4024), np.int32(7): np.int64(1230), np.int32(8): np.int64(1809), np.int32(9): np.int64(2989)}\n",
      "Self-Supervised tpcrp: [41.44, 42.32, 56.54, 61.89, 61.59]\n"
     ]
    }
   ],
   "source": [
    "set_seed(42)\n",
    "accs_self_tpcrp_mod2_5= active_learning_loop_self_supervised(\n",
    "    trainset, testloader, selection_mode='tpcrp',\n",
    "    simclr_model=simclr_model,\n",
    "    initial_B=10, cycle_B=10, cycles=5\n",
    ")\n",
    "print(\"Self-Supervised tpcrp:\", accs_self_tpcrp_mod2_5)"
   ]
  },
  {
   "cell_type": "code",
   "execution_count": null,
   "metadata": {},
   "outputs": [
    {
     "name": "stdout",
     "output_type": "stream",
     "text": [
      "\n",
      "=== SelfSupervised AL Cycle 0, #Labeled=10 ===\n",
      "Test Accuracy: 36.31%\n",
      "\n",
      "=== SelfSupervised AL Cycle 1, #Labeled=20 ===\n",
      "Test Accuracy: 46.32%\n",
      "\n",
      "=== SelfSupervised AL Cycle 2, #Labeled=30 ===\n",
      "Test Accuracy: 51.53%\n",
      "\n",
      "=== SelfSupervised AL Cycle 3, #Labeled=40 ===\n",
      "Test Accuracy: 58.71%\n",
      "\n",
      "=== SelfSupervised AL Cycle 4, #Labeled=50 ===\n",
      "Test Accuracy: 62.95%\n",
      "Self-Supervised Random: [36.32, 45.83, 64.65, 66.13, 67.27]\n"
     ]
    }
   ],
   "source": [
    "set_seed(100)\n",
    "accs_self_rand_100= active_learning_loop_self_supervised(\n",
    "    trainset, testloader, selection_mode='random',\n",
    "    simclr_model=simclr_model,\n",
    "    initial_B=10, cycle_B=10, cycles=5\n",
    ")\n",
    "print(\"Self-Supervised Random:\", accs_self_rand_100)"
   ]
  },
  {
   "cell_type": "code",
   "execution_count": null,
   "metadata": {},
   "outputs": [],
   "source": [
    "set_seed(100)\n",
    "accs_self_tpcrp_100= active_learning_loop_self_supervised(\n",
    "    trainset, testloader, selection_mode='tpcrp',\n",
    "    simclr_model=simclr_model,\n",
    "    initial_B=10, cycle_B=10, cycles=5\n",
    ")\n",
    "print(\"Self-Supervised Random:\", accs_self_tpcrp_100)"
   ]
  },
  {
   "cell_type": "code",
   "execution_count": 75,
   "metadata": {},
   "outputs": [],
   "source": [
    "accs_self_tpcrp=[40.49, 41.52, 52.73, 54.68, 57.85]"
   ]
  },
  {
   "cell_type": "code",
   "execution_count": 76,
   "metadata": {},
   "outputs": [
    {
     "name": "stdout",
     "output_type": "stream",
     "text": [
      "[40.49, 41.52, 52.73, 54.68, 57.85]\n"
     ]
    }
   ],
   "source": [
    "print(accs_self_tpcrp)"
   ]
  },
  {
   "cell_type": "code",
   "execution_count": null,
   "metadata": {},
   "outputs": [
    {
     "name": "stderr",
     "output_type": "stream",
     "text": [
      "C:\\Users\\chaso\\AppData\\Local\\Temp\\ipykernel_3148\\2398580661.py:7: UserWarning: No artists with labels found to put in legend.  Note that artists whose label start with an underscore are ignored when legend() is called with no argument.\n",
      "  plt.legend()\n"
     ]
    },
    {
     "data": {
      "image/png": "[encoded data removed]",
      "text/plain": [
       "<Figure size 640x480 with 1 Axes>"
      ]
     },
     "metadata": {},
     "output_type": "display_data"
    }
   ],
   "source": [
    "plt.figure()\n",
    "plt.plot(range(len(accs_self_tpcrp_mod2_5)), accs_self_tpcrp_mod2_5, marker='s', color='purple')\n",
    "plt.plot(range(len(accs_self_tpcrp)), accs_self_tpcrp, marker='^', color='orange')\n",
    "plt.xlabel(\"Active Learning Cycle\")\n",
    "plt.ylabel(\"Accuracy (%)\")\n",
    "plt.title(\"Self-Supervised: Original vs. Modified TPC(RP)\")\n",
    "#plt.legend()\n",
    "plt.show()\n"
   ]
  },
  {
   "cell_type": "code",
   "execution_count": 80,
   "metadata": {},
   "outputs": [],
   "source": [
    "accs_full_tpcrp_s0=[11.75, 16.28, 16.60, 19.87, 21.48]"
   ]
  },
  {
   "cell_type": "code",
   "execution_count": 81,
   "metadata": {},
   "outputs": [
    {
     "name": "stdout",
     "output_type": "stream",
     "text": [
      "[11.75, 16.28, 16.6, 19.87, 21.48]\n"
     ]
    }
   ],
   "source": [
    "print(accs_full_tpcrp_s0)"
   ]
  },
  {
   "cell_type": "code",
   "execution_count": null,
   "metadata": {},
   "outputs": [
    {
     "name": "stderr",
     "output_type": "stream",
     "text": [
      "C:\\Users\\chaso\\AppData\\Local\\Temp\\ipykernel_3148\\929087266.py:7: UserWarning: No artists with labels found to put in legend.  Note that artists whose label start with an underscore are ignored when legend() is called with no argument.\n",
      "  plt.legend()\n"
     ]
    },
    {
     "data": {
      "image/png": "[encoded data removed]",
      "text/plain": [
       "<Figure size 640x480 with 1 Axes>"
      ]
     },
     "metadata": {},
     "output_type": "display_data"
    }
   ],
   "source": [
    "plt.figure()\n",
    "plt.plot(range(len(accs_full_tpcrp_mod_s0)), accs_full_tpcrp_mod_s0, marker='s', color='purple')\n",
    "plt.plot(range(len(accs_full_tpcrp_s0)), accs_full_tpcrp_s0, marker='^', color='orange')\n",
    "plt.xlabel(\"Active Learning Cycle\")\n",
    "plt.ylabel(\"Accuracy (%)\")\n",
    "plt.title(\"Fully-Supervised: Original vs. Modified TPC(RP)\")\n",
    "#plt.legend()\n",
    "plt.show()\n"
   ]
  },
  {
   "cell_type": "code",
   "execution_count": null,
   "metadata": {},
   "outputs": [
    {
     "data": {
      "image/png": "[encoded data removed]",
      "text/plain": [
       "<Figure size 640x480 with 1 Axes>"
      ]
     },
     "metadata": {},
     "output_type": "display_data"
    }
   ],
   "source": [
    "#plot_accuracy_vs_budget(mean_accs_rm, mean_accs, 'Fully Supervised')"
   ]
  },
  {
   "cell_type": "code",
   "execution_count": null,
   "metadata": {},
   "outputs": [
    {
     "data": {
      "image/png": "[encoded data removed]",
      "text/plain": [
       "<Figure size 640x480 with 1 Axes>"
      ]
     },
     "metadata": {},
     "output_type": "display_data"
    }
   ],
   "source": [
    "#plot_accuracy_vs_budget(accs_fully_rm100, accs_fully_tr100, \n",
    " #                       title=\"Fully Supervised (Seed=100): Random vs. TPC(RP) \")\n"
   ]
  },
  {
   "cell_type": "code",
   "execution_count": null,
   "metadata": {},
   "outputs": [
    {
     "name": "stdout",
     "output_type": "stream",
     "text": [
      "TPC(RP) accuracies: [45.2, 48.7, 47.3]\n",
      "Random accuracies: [44.9, 49.1, 46.5]\n",
      "t-statistic: 0.14663102735578384\n",
      "p-value: 0.8905165688732657\n",
      "p >= 0.05 => No statistically significant difference.\n"
     ]
    }
   ],
   "source": [
    "# Two-sample t-test for TPC(RP) vs. Random\n",
    "import numpy as np\n",
    "from scipy.stats import ttest_ind\n",
    "\n",
    "acc_tpcrp = [ 45.2, 48.7, 47.3 ]   \n",
    "acc_random = [ 44.9, 49.1, 46.5 ]  \n",
    "\n",
    "# Perform a two-sample t-test\n",
    "stat, p_value = ttest_ind(acc_tpcrp, acc_random, equal_var=True)\n",
    "\n",
    "print(\"TPC(RP) accuracies:\", acc_tpcrp)\n",
    "print(\"Random accuracies:\", acc_random)\n",
    "print(\"t-statistic:\", stat)\n",
    "print(\"p-value:\", p_value)\n",
    "\n",
    "if p_value < 0.05:\n",
    "    print(\"p < 0.05 => The difference is statistically significant.\")\n",
    "else:\n",
    "    print(\"p >= 0.05 => No statistically significant difference.\")\n"
   ]
  }
 ],
 "metadata": {
  "kernelspec": {
   "display_name": "ml_cw2",
   "language": "python",
   "name": "python3"
  },
  "language_info": {
   "codemirror_mode": {
    "name": "ipython",
    "version": 3
   },
   "file_extension": ".py",
   "mimetype": "text/x-python",
   "name": "python",
   "nbconvert_exporter": "python",
   "pygments_lexer": "ipython3",
   "version": "3.12.8"
  }
 },
 "nbformat": 4,
 "nbformat_minor": 2
}
